{
 "cells": [
  {
   "cell_type": "code",
   "execution_count": 146,
   "id": "36da1478",
   "metadata": {},
   "outputs": [],
   "source": [
    "import numpy as np \n",
    "import pandas as pd \n",
    "import matplotlib.pyplot as plt\n",
    "from datetime import datetime\n",
    "import seaborn as sns\n",
    "\n",
    "\n",
    "%matplotlib inline"
   ]
  },
  {
   "cell_type": "markdown",
   "id": "5c85ffd5",
   "metadata": {},
   "source": [
    "## Data preparation & Cleaning"
   ]
  },
  {
   "cell_type": "markdown",
   "id": "85bf318a",
   "metadata": {},
   "source": [
    "#### Read data with pandas"
   ]
  },
  {
   "cell_type": "code",
   "execution_count": 117,
   "id": "6b6d5a8e",
   "metadata": {},
   "outputs": [],
   "source": [
    "# Read CSVs into dataframes\n",
    "players_df = pd.read_csv(\"./data-raw/players.csv\")\n",
    "games_df = pd.read_csv(\"./data-raw/games.csv\")\n",
    "appearances_df = pd.read_csv(\"./data-raw/appearances.csv\")"
   ]
  },
  {
   "cell_type": "code",
   "execution_count": 118,
   "id": "0453bd7b",
   "metadata": {},
   "outputs": [
    {
     "data": {
      "text/plain": [
       "(30302, 64434, 1489578)"
      ]
     },
     "execution_count": 118,
     "metadata": {},
     "output_type": "execute_result"
    }
   ],
   "source": [
    "len(players_df), len(games_df), len(appearances_df)"
   ]
  },
  {
   "cell_type": "code",
   "execution_count": 119,
   "id": "37927615",
   "metadata": {},
   "outputs": [
    {
     "data": {
      "text/plain": [
       "player_id                                 int64\n",
       "first_name                               object\n",
       "last_name                                object\n",
       "name                                     object\n",
       "last_season                               int64\n",
       "current_club_id                           int64\n",
       "player_code                              object\n",
       "country_of_birth                         object\n",
       "city_of_birth                            object\n",
       "country_of_citizenship                   object\n",
       "date_of_birth                            object\n",
       "sub_position                             object\n",
       "position                                 object\n",
       "foot                                     object\n",
       "height_in_cm                            float64\n",
       "market_value_in_eur                     float64\n",
       "highest_market_value_in_eur             float64\n",
       "contract_expiration_date                 object\n",
       "agent_name                               object\n",
       "image_url                                object\n",
       "url                                      object\n",
       "current_club_domestic_competition_id     object\n",
       "current_club_name                        object\n",
       "dtype: object"
      ]
     },
     "execution_count": 119,
     "metadata": {},
     "output_type": "execute_result"
    }
   ],
   "source": [
    "players_df.dtypes"
   ]
  },
  {
   "cell_type": "code",
   "execution_count": 120,
   "id": "774fc083",
   "metadata": {},
   "outputs": [
    {
     "data": {
      "text/plain": [
       "game_id                     int64\n",
       "competition_id             object\n",
       "season                      int64\n",
       "round                      object\n",
       "date                       object\n",
       "home_club_id                int64\n",
       "away_club_id                int64\n",
       "home_club_goals             int64\n",
       "away_club_goals             int64\n",
       "home_club_position        float64\n",
       "away_club_position        float64\n",
       "home_club_manager_name     object\n",
       "away_club_manager_name     object\n",
       "stadium                    object\n",
       "attendance                float64\n",
       "referee                    object\n",
       "url                        object\n",
       "home_club_formation        object\n",
       "away_club_formation        object\n",
       "home_club_name             object\n",
       "away_club_name             object\n",
       "aggregate                  object\n",
       "competition_type           object\n",
       "dtype: object"
      ]
     },
     "execution_count": 120,
     "metadata": {},
     "output_type": "execute_result"
    }
   ],
   "source": [
    "games_df.dtypes"
   ]
  },
  {
   "cell_type": "code",
   "execution_count": 121,
   "id": "5ba49c0c",
   "metadata": {},
   "outputs": [
    {
     "data": {
      "text/plain": [
       "appearance_id             object\n",
       "game_id                    int64\n",
       "player_id                  int64\n",
       "player_club_id             int64\n",
       "player_current_club_id     int64\n",
       "date                      object\n",
       "player_name               object\n",
       "competition_id            object\n",
       "yellow_cards               int64\n",
       "red_cards                  int64\n",
       "goals                      int64\n",
       "assists                    int64\n",
       "minutes_played             int64\n",
       "dtype: object"
      ]
     },
     "execution_count": 121,
     "metadata": {},
     "output_type": "execute_result"
    }
   ],
   "source": [
    "appearances_df.dtypes"
   ]
  },
  {
   "cell_type": "markdown",
   "id": "c389067d",
   "metadata": {},
   "source": [
    "#### Take most updated playes data only "
   ]
  },
  {
   "cell_type": "code",
   "execution_count": 122,
   "id": "c6ffd851",
   "metadata": {},
   "outputs": [
    {
     "data": {
      "text/plain": [
       "array([2014, 2012, 2013, 2015, 2017, 2020, 2018, 2019, 2016, 2021, 2022,\n",
       "       2023])"
      ]
     },
     "execution_count": 122,
     "metadata": {},
     "output_type": "execute_result"
    }
   ],
   "source": [
    "# check most update players's last season \n",
    "players_df['last_season'].unique()"
   ]
  },
  {
   "cell_type": "code",
   "execution_count": 123,
   "id": "d8a14237",
   "metadata": {},
   "outputs": [
    {
     "data": {
      "text/plain": [
       "6539"
      ]
     },
     "execution_count": 123,
     "metadata": {},
     "output_type": "execute_result"
    }
   ],
   "source": [
    "players_df = players_df[players_df[\"last_season\"] == 2023]\n",
    "len(players_df)"
   ]
  },
  {
   "cell_type": "markdown",
   "id": "4a8f0a26",
   "metadata": {},
   "source": [
    "#### Merge all data player to get final dataset"
   ]
  },
  {
   "cell_type": "code",
   "execution_count": 124,
   "id": "3655c97b",
   "metadata": {},
   "outputs": [],
   "source": [
    "games_and_apps_df = appearances_df.merge(games_df, on=['game_id'], how='left')\n",
    "\n",
    "def get_player_stats(player_id, season, df):\n",
    "    \n",
    "    df = df[df['player_id'] == player_id]\n",
    "    df = df[df['season'] == season]\n",
    "    \n",
    "    if (df.shape[0] == 0):\n",
    "        Out = [(np.nan, season,0,0,0,0,0,0,0)]\n",
    "        out_df = pd.DataFrame(data = Out, columns = ['player_id','season','goals','games',\n",
    "                                                     'assists','minutes_played','goals_for','goals_against','clean_sheet'])\n",
    "        return out_df\n",
    "    \n",
    "    else:\n",
    "        \n",
    "        df[\"goals_for\"] = df.apply(lambda row: row['home_club_goals'] if row['home_club_id'] == row['player_club_id'] \n",
    "                      else row['away_club_goals'] if row['away_club_id'] == row['player_club_id'] \n",
    "                      else np.nan, axis=1)\n",
    "        df[\"goals_against\"] = df.apply(lambda row: row['away_club_goals'] if row['home_club_id'] == row['player_club_id'] \n",
    "                      else row['home_club_goals'] if row['away_club_id'] == row['player_club_id'] \n",
    "                      else np.nan, axis=1)\n",
    "        df['clean_sheet'] = df.apply(lambda row: 1 if row['goals_against'] == 0\n",
    "                      else 0 if row['goals_against'] > 0\n",
    "                      else np.nan, axis=1)\n",
    "        \n",
    "        df = df.groupby(['player_id',\"season\"],as_index=False).agg({'goals': 'sum', 'game_id': 'nunique', \n",
    "                                                                      'assists': 'sum', 'minutes_played' : 'sum', 'goals_for' : 'sum',\n",
    "                                                                      'goals_against' : 'sum', 'clean_sheet' : 'sum'})\n",
    "        out_df = df.rename(columns={'game_id': 'games'})\n",
    "\n",
    "        return out_df\n",
    "    \n",
    "    \n",
    "stat_season = 2022\n",
    "for index in players_df.index:\n",
    "    id = players_df.loc[index][0]\n",
    "    name = players_df.loc[index][1]\n",
    "    stats = get_player_stats(id, stat_season, games_and_apps_df)\n",
    "    players_df.at[index,'goals_{}'.format(stat_season)]= stats['goals'][0]\n",
    "    players_df.at[index,'games_{}'.format(stat_season)]= stats['games'][0]\n",
    "    players_df.at[index,'assists_{}'.format(stat_season)]= stats['assists'][0]\n",
    "    players_df.at[index,'minutes_played_{}'.format(stat_season)]= stats['minutes_played'][0]\n",
    "    players_df.at[index,'goals_for_{}'.format(stat_season)]= stats['goals_for'][0]\n",
    "    players_df.at[index,'goals_against_{}'.format(stat_season)]= stats['goals_against'][0]\n",
    "    players_df.at[index,'clean_sheet_{}'.format(stat_season)]= stats['clean_sheet'][0]"
   ]
  },
  {
   "cell_type": "code",
   "execution_count": 131,
   "id": "ae503f32",
   "metadata": {},
   "outputs": [
    {
     "data": {
      "text/plain": [
       "Index(['player_id', 'first_name', 'last_name', 'name', 'last_season',\n",
       "       'current_club_id', 'player_code', 'country_of_birth', 'city_of_birth',\n",
       "       'country_of_citizenship', 'date_of_birth', 'sub_position', 'position',\n",
       "       'foot', 'height_in_cm', 'market_value_in_eur',\n",
       "       'highest_market_value_in_eur', 'contract_expiration_date', 'agent_name',\n",
       "       'image_url', 'url', 'current_club_domestic_competition_id',\n",
       "       'current_club_name', 'goals_2022', 'games_2022', 'assists_2022',\n",
       "       'minutes_played_2022', 'goals_for_2022', 'goals_against_2022',\n",
       "       'clean_sheet_2022', 'age'],\n",
       "      dtype='object')"
      ]
     },
     "execution_count": 131,
     "metadata": {},
     "output_type": "execute_result"
    }
   ],
   "source": [
    "players_df.columns"
   ]
  },
  {
   "cell_type": "code",
   "execution_count": 132,
   "id": "ef81dd19",
   "metadata": {},
   "outputs": [],
   "source": [
    "# we dont have age column, but can construct it from date of birth\n",
    "players_df['date_of_birth'] = pd.to_datetime(players_df['date_of_birth'])\n",
    "\n",
    "\n",
    "players_df = players_df[players_df['date_of_birth'].isnull() == False]\n",
    "now = datetime.now()\n",
    "\n",
    "players_df['age'] = (now - players_df['date_of_birth']).apply(lambda x: x.days) / 365.25\n",
    "players_df['age'] = players_df['age'].round().astype(int)"
   ]
  },
  {
   "cell_type": "markdown",
   "id": "d7935d6d",
   "metadata": {},
   "source": [
    "#### Handling missing value with drop "
   ]
  },
  {
   "cell_type": "code",
   "execution_count": 133,
   "id": "54c52757",
   "metadata": {},
   "outputs": [
    {
     "data": {
      "text/plain": [
       "player_id                               0\n",
       "first_name                              0\n",
       "last_name                               0\n",
       "name                                    0\n",
       "last_season                             0\n",
       "current_club_id                         0\n",
       "player_code                             0\n",
       "country_of_birth                        0\n",
       "city_of_birth                           0\n",
       "country_of_citizenship                  0\n",
       "date_of_birth                           0\n",
       "sub_position                            0\n",
       "position                                0\n",
       "foot                                    0\n",
       "height_in_cm                            0\n",
       "market_value_in_eur                     0\n",
       "highest_market_value_in_eur             0\n",
       "contract_expiration_date                0\n",
       "agent_name                              0\n",
       "image_url                               0\n",
       "url                                     0\n",
       "current_club_domestic_competition_id    0\n",
       "current_club_name                       0\n",
       "goals_2022                              0\n",
       "games_2022                              0\n",
       "assists_2022                            0\n",
       "minutes_played_2022                     0\n",
       "goals_for_2022                          0\n",
       "goals_against_2022                      0\n",
       "clean_sheet_2022                        0\n",
       "age                                     0\n",
       "dtype: int64"
      ]
     },
     "execution_count": 133,
     "metadata": {},
     "output_type": "execute_result"
    }
   ],
   "source": [
    "players_df.isnull().sum()"
   ]
  },
  {
   "cell_type": "code",
   "execution_count": 134,
   "id": "bbcd6e64",
   "metadata": {},
   "outputs": [
    {
     "data": {
      "text/plain": [
       "player_id                               0\n",
       "first_name                              0\n",
       "last_name                               0\n",
       "name                                    0\n",
       "last_season                             0\n",
       "current_club_id                         0\n",
       "player_code                             0\n",
       "country_of_birth                        0\n",
       "city_of_birth                           0\n",
       "country_of_citizenship                  0\n",
       "date_of_birth                           0\n",
       "sub_position                            0\n",
       "position                                0\n",
       "foot                                    0\n",
       "height_in_cm                            0\n",
       "market_value_in_eur                     0\n",
       "highest_market_value_in_eur             0\n",
       "contract_expiration_date                0\n",
       "agent_name                              0\n",
       "image_url                               0\n",
       "url                                     0\n",
       "current_club_domestic_competition_id    0\n",
       "current_club_name                       0\n",
       "goals_2022                              0\n",
       "games_2022                              0\n",
       "assists_2022                            0\n",
       "minutes_played_2022                     0\n",
       "goals_for_2022                          0\n",
       "goals_against_2022                      0\n",
       "clean_sheet_2022                        0\n",
       "age                                     0\n",
       "dtype: int64"
      ]
     },
     "execution_count": 134,
     "metadata": {},
     "output_type": "execute_result"
    }
   ],
   "source": [
    "players_df = players_df.dropna()\n",
    "players_df.isnull().sum()"
   ]
  },
  {
   "cell_type": "code",
   "execution_count": 135,
   "id": "1ffc9098",
   "metadata": {},
   "outputs": [
    {
     "data": {
      "text/plain": [
       "3808"
      ]
     },
     "execution_count": 135,
     "metadata": {},
     "output_type": "execute_result"
    }
   ],
   "source": [
    "len(players_df)"
   ]
  },
  {
   "cell_type": "code",
   "execution_count": 136,
   "id": "c4ccd820",
   "metadata": {},
   "outputs": [
    {
     "data": {
      "text/html": [
       "<div>\n",
       "<style scoped>\n",
       "    .dataframe tbody tr th:only-of-type {\n",
       "        vertical-align: middle;\n",
       "    }\n",
       "\n",
       "    .dataframe tbody tr th {\n",
       "        vertical-align: top;\n",
       "    }\n",
       "\n",
       "    .dataframe thead th {\n",
       "        text-align: right;\n",
       "    }\n",
       "</style>\n",
       "<table border=\"1\" class=\"dataframe\">\n",
       "  <thead>\n",
       "    <tr style=\"text-align: right;\">\n",
       "      <th></th>\n",
       "      <th>player_id</th>\n",
       "      <th>first_name</th>\n",
       "      <th>last_name</th>\n",
       "      <th>name</th>\n",
       "      <th>last_season</th>\n",
       "      <th>current_club_id</th>\n",
       "      <th>player_code</th>\n",
       "      <th>country_of_birth</th>\n",
       "      <th>city_of_birth</th>\n",
       "      <th>country_of_citizenship</th>\n",
       "      <th>...</th>\n",
       "      <th>current_club_domestic_competition_id</th>\n",
       "      <th>current_club_name</th>\n",
       "      <th>goals_2022</th>\n",
       "      <th>games_2022</th>\n",
       "      <th>assists_2022</th>\n",
       "      <th>minutes_played_2022</th>\n",
       "      <th>goals_for_2022</th>\n",
       "      <th>goals_against_2022</th>\n",
       "      <th>clean_sheet_2022</th>\n",
       "      <th>age</th>\n",
       "    </tr>\n",
       "  </thead>\n",
       "  <tbody>\n",
       "    <tr>\n",
       "      <th>0</th>\n",
       "      <td>22860</td>\n",
       "      <td>Jesper</td>\n",
       "      <td>Hansen</td>\n",
       "      <td>Jesper Hansen</td>\n",
       "      <td>2023</td>\n",
       "      <td>678</td>\n",
       "      <td>jesper-hansen</td>\n",
       "      <td>Denmark</td>\n",
       "      <td>Slangerup</td>\n",
       "      <td>Denmark</td>\n",
       "      <td>...</td>\n",
       "      <td>DK1</td>\n",
       "      <td>Aarhus GF</td>\n",
       "      <td>0.0</td>\n",
       "      <td>25.0</td>\n",
       "      <td>0.0</td>\n",
       "      <td>2250.0</td>\n",
       "      <td>37.0</td>\n",
       "      <td>22.0</td>\n",
       "      <td>9.0</td>\n",
       "      <td>39</td>\n",
       "    </tr>\n",
       "    <tr>\n",
       "      <th>1</th>\n",
       "      <td>30321</td>\n",
       "      <td>Óscar</td>\n",
       "      <td>Trejo</td>\n",
       "      <td>Óscar Trejo</td>\n",
       "      <td>2023</td>\n",
       "      <td>367</td>\n",
       "      <td>oscar-trejo</td>\n",
       "      <td>Argentina</td>\n",
       "      <td>Santiago del Estero</td>\n",
       "      <td>Argentina</td>\n",
       "      <td>...</td>\n",
       "      <td>ES1</td>\n",
       "      <td>Rayo Vallecano</td>\n",
       "      <td>3.0</td>\n",
       "      <td>37.0</td>\n",
       "      <td>5.0</td>\n",
       "      <td>2306.0</td>\n",
       "      <td>47.0</td>\n",
       "      <td>52.0</td>\n",
       "      <td>8.0</td>\n",
       "      <td>36</td>\n",
       "    </tr>\n",
       "    <tr>\n",
       "      <th>2</th>\n",
       "      <td>38780</td>\n",
       "      <td>Vítor</td>\n",
       "      <td>Gomes</td>\n",
       "      <td>Vítor Gomes</td>\n",
       "      <td>2023</td>\n",
       "      <td>2425</td>\n",
       "      <td>vitor-gomes</td>\n",
       "      <td>Portugal</td>\n",
       "      <td>Vila do Conde</td>\n",
       "      <td>Portugal</td>\n",
       "      <td>...</td>\n",
       "      <td>PO1</td>\n",
       "      <td>Rio Ave FC</td>\n",
       "      <td>0.0</td>\n",
       "      <td>22.0</td>\n",
       "      <td>1.0</td>\n",
       "      <td>826.0</td>\n",
       "      <td>28.0</td>\n",
       "      <td>30.0</td>\n",
       "      <td>8.0</td>\n",
       "      <td>36</td>\n",
       "    </tr>\n",
       "    <tr>\n",
       "      <th>3</th>\n",
       "      <td>40204</td>\n",
       "      <td>Joe</td>\n",
       "      <td>Hart</td>\n",
       "      <td>Joe Hart</td>\n",
       "      <td>2023</td>\n",
       "      <td>371</td>\n",
       "      <td>joe-hart</td>\n",
       "      <td>England</td>\n",
       "      <td>Shrewsbury</td>\n",
       "      <td>England</td>\n",
       "      <td>...</td>\n",
       "      <td>SC1</td>\n",
       "      <td>Celtic FC</td>\n",
       "      <td>0.0</td>\n",
       "      <td>44.0</td>\n",
       "      <td>0.0</td>\n",
       "      <td>3960.0</td>\n",
       "      <td>124.0</td>\n",
       "      <td>42.0</td>\n",
       "      <td>17.0</td>\n",
       "      <td>37</td>\n",
       "    </tr>\n",
       "    <tr>\n",
       "      <th>4</th>\n",
       "      <td>43250</td>\n",
       "      <td>Jan</td>\n",
       "      <td>Vertonghen</td>\n",
       "      <td>Jan Vertonghen</td>\n",
       "      <td>2023</td>\n",
       "      <td>58</td>\n",
       "      <td>jan-vertonghen</td>\n",
       "      <td>Belgium</td>\n",
       "      <td>Sint-Niklaas</td>\n",
       "      <td>Belgium</td>\n",
       "      <td>...</td>\n",
       "      <td>BE1</td>\n",
       "      <td>RSC Anderlecht</td>\n",
       "      <td>1.0</td>\n",
       "      <td>25.0</td>\n",
       "      <td>0.0</td>\n",
       "      <td>2078.0</td>\n",
       "      <td>37.0</td>\n",
       "      <td>36.0</td>\n",
       "      <td>9.0</td>\n",
       "      <td>37</td>\n",
       "    </tr>\n",
       "    <tr>\n",
       "      <th>...</th>\n",
       "      <td>...</td>\n",
       "      <td>...</td>\n",
       "      <td>...</td>\n",
       "      <td>...</td>\n",
       "      <td>...</td>\n",
       "      <td>...</td>\n",
       "      <td>...</td>\n",
       "      <td>...</td>\n",
       "      <td>...</td>\n",
       "      <td>...</td>\n",
       "      <td>...</td>\n",
       "      <td>...</td>\n",
       "      <td>...</td>\n",
       "      <td>...</td>\n",
       "      <td>...</td>\n",
       "      <td>...</td>\n",
       "      <td>...</td>\n",
       "      <td>...</td>\n",
       "      <td>...</td>\n",
       "      <td>...</td>\n",
       "      <td>...</td>\n",
       "    </tr>\n",
       "    <tr>\n",
       "      <th>3803</th>\n",
       "      <td>951293</td>\n",
       "      <td>Amir</td>\n",
       "      <td>Batyrev</td>\n",
       "      <td>Amir Batyrev</td>\n",
       "      <td>2023</td>\n",
       "      <td>41231</td>\n",
       "      <td>amir-batyrev</td>\n",
       "      <td>Canada</td>\n",
       "      <td>Toronto</td>\n",
       "      <td>Russia</td>\n",
       "      <td>...</td>\n",
       "      <td>RU1</td>\n",
       "      <td>FC Sochi</td>\n",
       "      <td>1.0</td>\n",
       "      <td>12.0</td>\n",
       "      <td>0.0</td>\n",
       "      <td>375.0</td>\n",
       "      <td>17.0</td>\n",
       "      <td>24.0</td>\n",
       "      <td>2.0</td>\n",
       "      <td>22</td>\n",
       "    </tr>\n",
       "    <tr>\n",
       "      <th>3804</th>\n",
       "      <td>923832</td>\n",
       "      <td>Nathan</td>\n",
       "      <td>Zeze</td>\n",
       "      <td>Nathan Zeze</td>\n",
       "      <td>2023</td>\n",
       "      <td>995</td>\n",
       "      <td>nathan-zeze</td>\n",
       "      <td>France</td>\n",
       "      <td>Nantes</td>\n",
       "      <td>France</td>\n",
       "      <td>...</td>\n",
       "      <td>FR1</td>\n",
       "      <td>FC Nantes</td>\n",
       "      <td>0.0</td>\n",
       "      <td>1.0</td>\n",
       "      <td>0.0</td>\n",
       "      <td>60.0</td>\n",
       "      <td>3.0</td>\n",
       "      <td>0.0</td>\n",
       "      <td>1.0</td>\n",
       "      <td>18</td>\n",
       "    </tr>\n",
       "    <tr>\n",
       "      <th>3805</th>\n",
       "      <td>371851</td>\n",
       "      <td>Jaka</td>\n",
       "      <td>Bijol</td>\n",
       "      <td>Jaka Bijol</td>\n",
       "      <td>2023</td>\n",
       "      <td>410</td>\n",
       "      <td>jaka-bijol</td>\n",
       "      <td>Slovenia</td>\n",
       "      <td>Vuzenica</td>\n",
       "      <td>Slovenia</td>\n",
       "      <td>...</td>\n",
       "      <td>IT1</td>\n",
       "      <td>Udinese Calcio</td>\n",
       "      <td>3.0</td>\n",
       "      <td>33.0</td>\n",
       "      <td>2.0</td>\n",
       "      <td>2805.0</td>\n",
       "      <td>39.0</td>\n",
       "      <td>39.0</td>\n",
       "      <td>10.0</td>\n",
       "      <td>25</td>\n",
       "    </tr>\n",
       "    <tr>\n",
       "      <th>3806</th>\n",
       "      <td>586756</td>\n",
       "      <td>Festy</td>\n",
       "      <td>Ebosele</td>\n",
       "      <td>Festy Ebosele</td>\n",
       "      <td>2023</td>\n",
       "      <td>410</td>\n",
       "      <td>festy-ebosele</td>\n",
       "      <td>Ireland</td>\n",
       "      <td>Enniscorthy, Wexford</td>\n",
       "      <td>Ireland</td>\n",
       "      <td>...</td>\n",
       "      <td>IT1</td>\n",
       "      <td>Udinese Calcio</td>\n",
       "      <td>0.0</td>\n",
       "      <td>18.0</td>\n",
       "      <td>1.0</td>\n",
       "      <td>446.0</td>\n",
       "      <td>20.0</td>\n",
       "      <td>27.0</td>\n",
       "      <td>4.0</td>\n",
       "      <td>21</td>\n",
       "    </tr>\n",
       "    <tr>\n",
       "      <th>3807</th>\n",
       "      <td>925584</td>\n",
       "      <td>Axel</td>\n",
       "      <td>Guessand</td>\n",
       "      <td>Axel Guessand</td>\n",
       "      <td>2023</td>\n",
       "      <td>410</td>\n",
       "      <td>axel-guessand</td>\n",
       "      <td>France</td>\n",
       "      <td>Schiltigheim</td>\n",
       "      <td>France</td>\n",
       "      <td>...</td>\n",
       "      <td>IT1</td>\n",
       "      <td>Udinese Calcio</td>\n",
       "      <td>0.0</td>\n",
       "      <td>1.0</td>\n",
       "      <td>0.0</td>\n",
       "      <td>80.0</td>\n",
       "      <td>0.0</td>\n",
       "      <td>1.0</td>\n",
       "      <td>0.0</td>\n",
       "      <td>19</td>\n",
       "    </tr>\n",
       "  </tbody>\n",
       "</table>\n",
       "<p>3808 rows × 31 columns</p>\n",
       "</div>"
      ],
      "text/plain": [
       "      player_id first_name   last_name            name  last_season  \\\n",
       "0         22860     Jesper      Hansen   Jesper Hansen         2023   \n",
       "1         30321      Óscar       Trejo     Óscar Trejo         2023   \n",
       "2         38780      Vítor       Gomes     Vítor Gomes         2023   \n",
       "3         40204        Joe        Hart        Joe Hart         2023   \n",
       "4         43250        Jan  Vertonghen  Jan Vertonghen         2023   \n",
       "...         ...        ...         ...             ...          ...   \n",
       "3803     951293       Amir     Batyrev    Amir Batyrev         2023   \n",
       "3804     923832     Nathan        Zeze     Nathan Zeze         2023   \n",
       "3805     371851       Jaka       Bijol      Jaka Bijol         2023   \n",
       "3806     586756      Festy     Ebosele   Festy Ebosele         2023   \n",
       "3807     925584       Axel    Guessand   Axel Guessand         2023   \n",
       "\n",
       "      current_club_id     player_code country_of_birth         city_of_birth  \\\n",
       "0                 678   jesper-hansen          Denmark             Slangerup   \n",
       "1                 367     oscar-trejo        Argentina   Santiago del Estero   \n",
       "2                2425     vitor-gomes         Portugal         Vila do Conde   \n",
       "3                 371        joe-hart          England            Shrewsbury   \n",
       "4                  58  jan-vertonghen          Belgium          Sint-Niklaas   \n",
       "...               ...             ...              ...                   ...   \n",
       "3803            41231    amir-batyrev           Canada               Toronto   \n",
       "3804              995     nathan-zeze           France                Nantes   \n",
       "3805              410      jaka-bijol         Slovenia              Vuzenica   \n",
       "3806              410   festy-ebosele          Ireland  Enniscorthy, Wexford   \n",
       "3807              410   axel-guessand           France          Schiltigheim   \n",
       "\n",
       "     country_of_citizenship  ... current_club_domestic_competition_id  \\\n",
       "0                   Denmark  ...                                  DK1   \n",
       "1                 Argentina  ...                                  ES1   \n",
       "2                  Portugal  ...                                  PO1   \n",
       "3                   England  ...                                  SC1   \n",
       "4                   Belgium  ...                                  BE1   \n",
       "...                     ...  ...                                  ...   \n",
       "3803                 Russia  ...                                  RU1   \n",
       "3804                 France  ...                                  FR1   \n",
       "3805               Slovenia  ...                                  IT1   \n",
       "3806                Ireland  ...                                  IT1   \n",
       "3807                 France  ...                                  IT1   \n",
       "\n",
       "     current_club_name goals_2022 games_2022  assists_2022  \\\n",
       "0            Aarhus GF        0.0       25.0           0.0   \n",
       "1       Rayo Vallecano        3.0       37.0           5.0   \n",
       "2           Rio Ave FC        0.0       22.0           1.0   \n",
       "3            Celtic FC        0.0       44.0           0.0   \n",
       "4       RSC Anderlecht        1.0       25.0           0.0   \n",
       "...                ...        ...        ...           ...   \n",
       "3803          FC Sochi        1.0       12.0           0.0   \n",
       "3804         FC Nantes        0.0        1.0           0.0   \n",
       "3805    Udinese Calcio        3.0       33.0           2.0   \n",
       "3806    Udinese Calcio        0.0       18.0           1.0   \n",
       "3807    Udinese Calcio        0.0        1.0           0.0   \n",
       "\n",
       "      minutes_played_2022  goals_for_2022 goals_against_2022 clean_sheet_2022  \\\n",
       "0                  2250.0            37.0               22.0              9.0   \n",
       "1                  2306.0            47.0               52.0              8.0   \n",
       "2                   826.0            28.0               30.0              8.0   \n",
       "3                  3960.0           124.0               42.0             17.0   \n",
       "4                  2078.0            37.0               36.0              9.0   \n",
       "...                   ...             ...                ...              ...   \n",
       "3803                375.0            17.0               24.0              2.0   \n",
       "3804                 60.0             3.0                0.0              1.0   \n",
       "3805               2805.0            39.0               39.0             10.0   \n",
       "3806                446.0            20.0               27.0              4.0   \n",
       "3807                 80.0             0.0                1.0              0.0   \n",
       "\n",
       "     age  \n",
       "0     39  \n",
       "1     36  \n",
       "2     36  \n",
       "3     37  \n",
       "4     37  \n",
       "...   ..  \n",
       "3803  22  \n",
       "3804  18  \n",
       "3805  25  \n",
       "3806  21  \n",
       "3807  19  \n",
       "\n",
       "[3808 rows x 31 columns]"
      ]
     },
     "execution_count": 136,
     "metadata": {},
     "output_type": "execute_result"
    }
   ],
   "source": [
    "#reset index of dataset\n",
    "players_df = players_df.reset_index(drop=True)\n",
    "players_df"
   ]
  },
  {
   "cell_type": "markdown",
   "id": "a0813401",
   "metadata": {},
   "source": [
    "## EDA"
   ]
  },
  {
   "cell_type": "markdown",
   "id": "dc5d40e7",
   "metadata": {},
   "source": [
    "### Basic Statistic"
   ]
  },
  {
   "cell_type": "code",
   "execution_count": 137,
   "id": "eadb9891",
   "metadata": {},
   "outputs": [
    {
     "name": "stdout",
     "output_type": "stream",
     "text": [
      "========== player_id ==========\n",
      "sample data: [22860 30321 38780 40204 43250] \n",
      "no. of unique value: 3808 \n",
      "\n",
      "========== first_name ==========\n",
      "sample data: ['Jesper' 'Óscar' 'Vítor' 'Joe' 'Jan'] \n",
      "no. of unique value: 1842 \n",
      "\n",
      "========== last_name ==========\n",
      "sample data: ['Hansen' 'Trejo' 'Gomes' 'Hart' 'Vertonghen'] \n",
      "no. of unique value: 3390 \n",
      "\n",
      "========== name ==========\n",
      "sample data: ['Jesper Hansen' 'Óscar Trejo' 'Vítor Gomes' 'Joe Hart' 'Jan Vertonghen'] \n",
      "no. of unique value: 3801 \n",
      "\n",
      "========== last_season ==========\n",
      "sample data: [2023] \n",
      "no. of unique value: 1 \n",
      "\n",
      "========== current_club_id ==========\n",
      "sample data: [ 678  367 2425  371   58] \n",
      "no. of unique value: 238 \n",
      "\n",
      "========== player_code ==========\n",
      "sample data: ['jesper-hansen' 'oscar-trejo' 'vitor-gomes' 'joe-hart' 'jan-vertonghen'] \n",
      "no. of unique value: 3801 \n",
      "\n",
      "========== country_of_birth ==========\n",
      "sample data: ['Denmark' 'Argentina' 'Portugal' 'England' 'Belgium'] \n",
      "no. of unique value: 124 \n",
      "\n",
      "========== city_of_birth ==========\n",
      "sample data: ['Slangerup' 'Santiago del Estero' 'Vila do Conde' 'Shrewsbury'\n",
      " 'Sint-Niklaas'] \n",
      "no. of unique value: 2127 \n",
      "\n",
      "========== country_of_citizenship ==========\n",
      "sample data: ['Denmark' 'Argentina' 'Portugal' 'England' 'Belgium'] \n",
      "no. of unique value: 124 \n",
      "\n",
      "========== date_of_birth ==========\n",
      "sample data: <DatetimeArray>\n",
      "['1985-03-31 00:00:00', '1988-04-26 00:00:00', '1987-12-25 00:00:00',\n",
      " '1987-04-19 00:00:00', '1987-04-24 00:00:00']\n",
      "Length: 5, dtype: datetime64[ns] \n",
      "no. of unique value: 2749 \n",
      "\n",
      "========== sub_position ==========\n",
      "sample data: ['Goalkeeper' 'Attacking Midfield' 'Defensive Midfield' 'Centre-Back'\n",
      " 'Right Winger'] \n",
      "no. of unique value: 13 \n",
      "\n",
      "========== position ==========\n",
      "sample data: ['Goalkeeper' 'Midfield' 'Defender' 'Attack'] \n",
      "no. of unique value: 4 \n",
      "\n",
      "========== foot ==========\n",
      "sample data: ['right' 'left' 'both'] \n",
      "no. of unique value: 3 \n",
      "\n",
      "========== height_in_cm ==========\n",
      "sample data: [188. 180. 182. 196. 189.] \n",
      "no. of unique value: 43 \n",
      "\n",
      "========== market_value_in_eur ==========\n",
      "sample data: [ 200000. 2500000.  100000. 1500000. 1000000.] \n",
      "no. of unique value: 109 \n",
      "\n",
      "========== highest_market_value_in_eur ==========\n",
      "sample data: [ 1000000.  4000000.  1500000. 24000000. 32000000.] \n",
      "no. of unique value: 128 \n",
      "\n",
      "========== contract_expiration_date ==========\n",
      "sample data: ['2024-06-30 00:00:00' '2024-05-31 00:00:00' '2025-06-30 00:00:00'\n",
      " '2026-06-30 00:00:00' '2027-06-30 00:00:00'] \n",
      "no. of unique value: 24 \n",
      "\n",
      "========== agent_name ==========\n",
      "sample data: ['Boutique Transfers' 'Eleven Talent Group' 'Gestifute' 'OmniSports'\n",
      " 'A-GROUP'] \n",
      "no. of unique value: 980 \n",
      "\n",
      "========== image_url ==========\n",
      "sample data: ['https://img.a.transfermarkt.technology/portrait/header/22860-1601543044.jpg?lm=1'\n",
      " 'https://img.a.transfermarkt.technology/portrait/header/30321-1653039805.jpg?lm=1'\n",
      " 'https://img.a.transfermarkt.technology/portrait/header/38780-1676547235.jpg?lm=1'\n",
      " 'https://img.a.transfermarkt.technology/portrait/header/40204-1471254796.jpg?lm=1'\n",
      " 'https://img.a.transfermarkt.technology/portrait/header/43250-1668080180.jpg?lm=1'] \n",
      "no. of unique value: 3677 \n",
      "\n",
      "========== url ==========\n",
      "sample data: ['https://www.transfermarkt.co.uk/jesper-hansen/profil/spieler/22860'\n",
      " 'https://www.transfermarkt.co.uk/oscar-trejo/profil/spieler/30321'\n",
      " 'https://www.transfermarkt.co.uk/vitor-gomes/profil/spieler/38780'\n",
      " 'https://www.transfermarkt.co.uk/joe-hart/profil/spieler/40204'\n",
      " 'https://www.transfermarkt.co.uk/jan-vertonghen/profil/spieler/43250'] \n",
      "no. of unique value: 3808 \n",
      "\n",
      "========== current_club_domestic_competition_id ==========\n",
      "sample data: ['DK1' 'ES1' 'PO1' 'SC1' 'BE1'] \n",
      "no. of unique value: 14 \n",
      "\n",
      "========== current_club_name ==========\n",
      "sample data: ['Aarhus GF' 'Rayo Vallecano' 'Rio Ave FC' 'Celtic FC' 'RSC Anderlecht'] \n",
      "no. of unique value: 238 \n",
      "\n",
      "========== goals_2022 ==========\n",
      "sample data: [0. 3. 1. 8. 4.] \n",
      "no. of unique value: 30 \n",
      "\n",
      "========== games_2022 ==========\n",
      "sample data: [25. 37. 22. 44. 46.] \n",
      "no. of unique value: 58 \n",
      "\n",
      "========== assists_2022 ==========\n",
      "sample data: [0. 5. 1. 7. 3.] \n",
      "no. of unique value: 20 \n",
      "\n",
      "========== minutes_played_2022 ==========\n",
      "sample data: [2250. 2306.  826. 3960. 2078.] \n",
      "no. of unique value: 1950 \n",
      "\n",
      "========== goals_for_2022 ==========\n",
      "sample data: [ 37.  47.  28. 124.  95.] \n",
      "no. of unique value: 127 \n",
      "\n",
      "========== goals_against_2022 ==========\n",
      "sample data: [22. 52. 30. 42. 36.] \n",
      "no. of unique value: 80 \n",
      "\n",
      "========== clean_sheet_2022 ==========\n",
      "sample data: [ 9.  8. 17. 18.  3.] \n",
      "no. of unique value: 28 \n",
      "\n",
      "========== age ==========\n",
      "sample data: [39 36 37 35 32] \n",
      "no. of unique value: 24 \n",
      "\n"
     ]
    }
   ],
   "source": [
    "#see each column data statistic\n",
    "for col in players_df.columns:\n",
    "    print(\"========== {} ==========\".format(col) )\n",
    "    print(\"sample data: {} \".format(players_df[col].unique()[:5]))\n",
    "    print(\"no. of unique value: {} \".format(players_df[col].nunique()))\n",
    "    print()"
   ]
  },
  {
   "cell_type": "markdown",
   "id": "b1ccda6c",
   "metadata": {},
   "source": [
    "#### player's age distribution"
   ]
  },
  {
   "cell_type": "code",
   "execution_count": 138,
   "id": "deb0228b",
   "metadata": {},
   "outputs": [
    {
     "data": {
      "text/plain": [
       "<Axes: xlabel='age'>"
      ]
     },
     "execution_count": 138,
     "metadata": {},
     "output_type": "execute_result"
    },
    {
     "data": {
      "image/png": "[encoded data removed]",
      "text/plain": [
       "<Figure size 640x480 with 1 Axes>"
      ]
     },
     "metadata": {},
     "output_type": "display_data"
    }
   ],
   "source": [
    "sns.boxplot(x=players_df[\"age\"])"
   ]
  },
  {
   "cell_type": "code",
   "execution_count": 139,
   "id": "f0ba24c1",
   "metadata": {},
   "outputs": [
    {
     "data": {
      "text/plain": [
       "<Axes: xlabel='age', ylabel='Count'>"
      ]
     },
     "execution_count": 139,
     "metadata": {},
     "output_type": "execute_result"
    },
    {
     "data": {
      "image/png": "[encoded data removed]",
      "text/plain": [
       "<Figure size 640x480 with 1 Axes>"
      ]
     },
     "metadata": {},
     "output_type": "display_data"
    }
   ],
   "source": [
    "sns.histplot(players_df.age, bins=10)"
   ]
  },
  {
   "cell_type": "markdown",
   "id": "eb9613a0",
   "metadata": {},
   "source": [
    "#### The most goal player in 2022"
   ]
  },
  {
   "cell_type": "code",
   "execution_count": 140,
   "id": "69debda6",
   "metadata": {},
   "outputs": [
    {
     "data": {
      "image/png": "[encoded data removed]",
      "text/plain": [
       "<Figure size 1000x600 with 1 Axes>"
      ]
     },
     "metadata": {},
     "output_type": "display_data"
    }
   ],
   "source": [
    "top5_names = players_df.sort_values(by=['goals_2022'], ascending=False).head(5)['name']\n",
    "top5_goals = players_df.sort_values(by=['goals_2022'], ascending=False).head(5)['goals_2022']\n",
    "\n",
    "fig = plt.figure(figsize =(10, 6))\n",
    " \n",
    "plt.bar(top5_names, top5_goals)\n",
    " \n",
    "# Show Plot\n",
    "plt.show()"
   ]
  },
  {
   "cell_type": "markdown",
   "id": "775e1bf7",
   "metadata": {},
   "source": [
    "#### Highest market value player in 2023 (in Euro)"
   ]
  },
  {
   "cell_type": "code",
   "execution_count": 144,
   "id": "b4b2430d",
   "metadata": {},
   "outputs": [
    {
     "data": {
      "image/png": "[encoded data removed]",
      "text/plain": [
       "<Figure size 1000x600 with 1 Axes>"
      ]
     },
     "metadata": {},
     "output_type": "display_data"
    }
   ],
   "source": [
    "top5_names = players_df.sort_values(by=['market_value_in_eur'], ascending=False).head(5)['name']\n",
    "top5_market_values = players_df.sort_values(by=['market_value_in_eur'], ascending=False).head(5)['market_value_in_eur']\n",
    "\n",
    "fig = plt.figure(figsize =(10, 6))\n",
    " \n",
    "plt.bar(top5_names, top5_market_values)\n",
    " \n",
    "# Show Plot\n",
    "plt.show()"
   ]
  },
  {
   "cell_type": "markdown",
   "id": "579c213b",
   "metadata": {},
   "source": [
    "### Target Variable Analysis"
   ]
  },
  {
   "cell_type": "markdown",
   "id": "fa11a7a7",
   "metadata": {},
   "source": [
    "Here we use market_value_in_eur column as our target variable \\\n",
    "market_value_in_eur is latest value of the player in euro currency"
   ]
  },
  {
   "cell_type": "code",
   "execution_count": 149,
   "id": "46a756a1",
   "metadata": {},
   "outputs": [
    {
     "data": {
      "text/plain": [
       "<Axes: xlabel='market_value_in_eur', ylabel='Count'>"
      ]
     },
     "execution_count": 149,
     "metadata": {},
     "output_type": "execute_result"
    },
    {
     "data": {
      "image/png": "[encoded data removed]",
      "text/plain": [
       "<Figure size 640x480 with 1 Axes>"
      ]
     },
     "metadata": {},
     "output_type": "display_data"
    }
   ],
   "source": [
    "#show the distribution of player's market value\n",
    "#looked a long tail distribution\n",
    "sns.histplot(players_df['market_value_in_eur'], bins=10)"
   ]
  },
  {
   "cell_type": "code",
   "execution_count": 153,
   "id": "aa883a04",
   "metadata": {},
   "outputs": [
    {
     "data": {
      "text/plain": [
       "<Axes: xlabel='market_value_in_eur', ylabel='Count'>"
      ]
     },
     "execution_count": 153,
     "metadata": {},
     "output_type": "execute_result"
    },
    {
     "data": {
      "image/png": "[encoded data removed]",
      "text/plain": [
       "<Figure size 640x480 with 1 Axes>"
      ]
     },
     "metadata": {},
     "output_type": "display_data"
    }
   ],
   "source": [
    "#zoom in to below 1000000000\n",
    "sns.histplot(players_df['market_value_in_eur'][players_df['market_value_in_eur'] < 100000000], bins=50)"
   ]
  },
  {
   "cell_type": "code",
   "execution_count": 154,
   "id": "a48cd025",
   "metadata": {},
   "outputs": [],
   "source": [
    "#Applies log transformation to a variable and adds one to each result for normalize the distribution\n",
    "#Log transformation makes great distance of data dissemination become smaller\n",
    "#here we transform the distribution to normal dist since long tail dist often confuse the ML models\n",
    "market_value_logs = np.log1p(players_df['market_value_in_eur'])"
   ]
  },
  {
   "cell_type": "code",
   "execution_count": 155,
   "id": "25823a4c",
   "metadata": {},
   "outputs": [
    {
     "data": {
      "text/plain": [
       "<Axes: xlabel='market_value_in_eur', ylabel='Count'>"
      ]
     },
     "execution_count": 155,
     "metadata": {},
     "output_type": "execute_result"
    },
    {
     "data": {
      "image/png": "[encoded data removed]",
      "text/plain": [
       "<Figure size 640x480 with 1 Axes>"
      ]
     },
     "metadata": {},
     "output_type": "display_data"
    }
   ],
   "source": [
    "sns.histplot(market_value_logs, bins=50)"
   ]
  },
  {
   "cell_type": "markdown",
   "id": "32539a54",
   "metadata": {},
   "source": [
    "### Feature Importance Analysis"
   ]
  },
  {
   "cell_type": "code",
   "execution_count": 143,
   "id": "0c08b580",
   "metadata": {},
   "outputs": [
    {
     "data": {
      "text/plain": [
       "player_id                                        int64\n",
       "first_name                                      object\n",
       "last_name                                       object\n",
       "name                                            object\n",
       "last_season                                      int64\n",
       "current_club_id                                  int64\n",
       "player_code                                     object\n",
       "country_of_birth                                object\n",
       "city_of_birth                                   object\n",
       "country_of_citizenship                          object\n",
       "date_of_birth                           datetime64[ns]\n",
       "sub_position                                    object\n",
       "position                                        object\n",
       "foot                                            object\n",
       "height_in_cm                                   float64\n",
       "market_value_in_eur                            float64\n",
       "highest_market_value_in_eur                    float64\n",
       "contract_expiration_date                        object\n",
       "agent_name                                      object\n",
       "image_url                                       object\n",
       "url                                             object\n",
       "current_club_domestic_competition_id            object\n",
       "current_club_name                               object\n",
       "goals_2022                                     float64\n",
       "games_2022                                     float64\n",
       "assists_2022                                   float64\n",
       "minutes_played_2022                            float64\n",
       "goals_for_2022                                 float64\n",
       "goals_against_2022                             float64\n",
       "clean_sheet_2022                               float64\n",
       "age                                              int64\n",
       "dtype: object"
      ]
     },
     "execution_count": 143,
     "metadata": {},
     "output_type": "execute_result"
    }
   ],
   "source": [
    "players_df.dtypes"
   ]
  },
  {
   "cell_type": "code",
   "execution_count": null,
   "id": "ca439fb1",
   "metadata": {},
   "outputs": [],
   "source": [
    "#pick relavant feature to train and divide it based the type of data\n",
    "numerical_features = ['height_in_cm',\n",
    "                      'goals_2022',\n",
    "                      'games_2022',\n",
    "                      'assists_2022',\n",
    "                      'minutes_played_2022',\n",
    "                      'goals_for_2022',\n",
    "                      'goals_against_2022',\n",
    "                      'clean_sheet_2022',\n",
    "                      'age'\n",
    "                     ]\n",
    "categorical_features = ['position',\n",
    "                        'sub_position',\n",
    "                        'foot',\n",
    "                        'current_club_name',\n",
    "                        'current_club_domestic_competition_id'\n",
    "                       ]"
   ]
  },
  {
   "cell_type": "code",
   "execution_count": 51,
   "id": "4df2e99d",
   "metadata": {},
   "outputs": [
    {
     "data": {
      "text/html": [
       "<div>\n",
       "<style scoped>\n",
       "    .dataframe tbody tr th:only-of-type {\n",
       "        vertical-align: middle;\n",
       "    }\n",
       "\n",
       "    .dataframe tbody tr th {\n",
       "        vertical-align: top;\n",
       "    }\n",
       "\n",
       "    .dataframe thead th {\n",
       "        text-align: right;\n",
       "    }\n",
       "</style>\n",
       "<table border=\"1\" class=\"dataframe\">\n",
       "  <thead>\n",
       "    <tr style=\"text-align: right;\">\n",
       "      <th></th>\n",
       "      <th>user_id</th>\n",
       "      <th>favorite_color</th>\n",
       "    </tr>\n",
       "  </thead>\n",
       "  <tbody>\n",
       "    <tr>\n",
       "      <th>0</th>\n",
       "      <td>Paul</td>\n",
       "      <td>blue</td>\n",
       "    </tr>\n",
       "    <tr>\n",
       "      <th>1</th>\n",
       "      <td>Mary</td>\n",
       "      <td>blue</td>\n",
       "    </tr>\n",
       "    <tr>\n",
       "      <th>2</th>\n",
       "      <td>John</td>\n",
       "      <td>red</td>\n",
       "    </tr>\n",
       "    <tr>\n",
       "      <th>3</th>\n",
       "      <td>Anna</td>\n",
       "      <td>NaN</td>\n",
       "    </tr>\n",
       "  </tbody>\n",
       "</table>\n",
       "</div>"
      ],
      "text/plain": [
       "  user_id favorite_color\n",
       "0    Paul           blue\n",
       "1    Mary           blue\n",
       "2    John            red\n",
       "3    Anna            NaN"
      ]
     },
     "execution_count": 51,
     "metadata": {},
     "output_type": "execute_result"
    }
   ],
   "source": [
    "right_df"
   ]
  },
  {
   "cell_type": "code",
   "execution_count": 54,
   "id": "dce0e9a5",
   "metadata": {},
   "outputs": [
    {
     "data": {
      "text/html": [
       "<div>\n",
       "<style scoped>\n",
       "    .dataframe tbody tr th:only-of-type {\n",
       "        vertical-align: middle;\n",
       "    }\n",
       "\n",
       "    .dataframe tbody tr th {\n",
       "        vertical-align: top;\n",
       "    }\n",
       "\n",
       "    .dataframe thead th {\n",
       "        text-align: right;\n",
       "    }\n",
       "</style>\n",
       "<table border=\"1\" class=\"dataframe\">\n",
       "  <thead>\n",
       "    <tr style=\"text-align: right;\">\n",
       "      <th></th>\n",
       "      <th>transaction_id</th>\n",
       "      <th>user_id</th>\n",
       "      <th>value</th>\n",
       "      <th>favorite_color</th>\n",
       "    </tr>\n",
       "  </thead>\n",
       "  <tbody>\n",
       "    <tr>\n",
       "      <th>0</th>\n",
       "      <td>A</td>\n",
       "      <td>Peter</td>\n",
       "      <td>1.764052</td>\n",
       "      <td>NaN</td>\n",
       "    </tr>\n",
       "    <tr>\n",
       "      <th>1</th>\n",
       "      <td>B</td>\n",
       "      <td>John</td>\n",
       "      <td>0.400157</td>\n",
       "      <td>red</td>\n",
       "    </tr>\n",
       "    <tr>\n",
       "      <th>2</th>\n",
       "      <td>C</td>\n",
       "      <td>John</td>\n",
       "      <td>0.978738</td>\n",
       "      <td>red</td>\n",
       "    </tr>\n",
       "    <tr>\n",
       "      <th>3</th>\n",
       "      <td>D</td>\n",
       "      <td>Anna</td>\n",
       "      <td>2.240893</td>\n",
       "      <td>NaN</td>\n",
       "    </tr>\n",
       "  </tbody>\n",
       "</table>\n",
       "</div>"
      ],
      "text/plain": [
       "  transaction_id user_id     value favorite_color\n",
       "0              A   Peter  1.764052            NaN\n",
       "1              B    John  0.400157            red\n",
       "2              C    John  0.978738            red\n",
       "3              D    Anna  2.240893            NaN"
      ]
     },
     "execution_count": 54,
     "metadata": {},
     "output_type": "execute_result"
    }
   ],
   "source": [
    "left_df.merge(right_df, on='user_id', how='left')"
   ]
  },
  {
   "cell_type": "code",
   "execution_count": null,
   "id": "4afb2caf",
   "metadata": {},
   "outputs": [],
   "source": []
  }
 ],
 "metadata": {
  "kernelspec": {
   "display_name": "Python 3 (ipykernel)",
   "language": "python",
   "name": "python3"
  },
  "language_info": {
   "codemirror_mode": {
    "name": "ipython",
    "version": 3
   },
   "file_extension": ".py",
   "mimetype": "text/x-python",
   "name": "python",
   "nbconvert_exporter": "python",
   "pygments_lexer": "ipython3",
   "version": "3.9.18"
  }
 },
 "nbformat": 4,
 "nbformat_minor": 5
}
