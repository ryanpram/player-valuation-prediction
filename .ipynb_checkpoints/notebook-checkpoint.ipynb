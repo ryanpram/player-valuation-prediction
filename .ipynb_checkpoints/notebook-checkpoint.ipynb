{
 "cells": [
  {
   "cell_type": "code",
   "execution_count": 186,
   "id": "36da1478",
   "metadata": {},
   "outputs": [],
   "source": [
    "import numpy as np \n",
    "import pandas as pd \n",
    "from datetime import datetime\n",
    "\n",
    "import matplotlib.pyplot as plt\n",
    "import seaborn as sns\n",
    "\n",
    "from sklearn.metrics import mutual_info_score\n",
    "from sklearn.feature_extraction import DictVectorizer\n",
    "\n",
    "from sklearn.linear_model import LinearRegression\n",
    "from sklearn.linear_model import Ridge\n",
    "from sklearn.linear_model import Lasso\n",
    "from sklearn.linear_model import ElasticNet\n",
    "\n",
    "from sklearn.tree import DecisionTreeRegressor\n",
    "from sklearn import tree\n",
    "\n",
    "%matplotlib inline"
   ]
  },
  {
   "cell_type": "code",
   "execution_count": 199,
   "id": "4e33a18c",
   "metadata": {},
   "outputs": [
    {
     "name": "stdout",
     "output_type": "stream",
     "text": [
      "Requirement already satisfied: xgboost in /opt/anaconda3/envs/ml-zoomcamp/lib/python3.9/site-packages (2.0.0)\r\n",
      "Requirement already satisfied: numpy in /opt/anaconda3/envs/ml-zoomcamp/lib/python3.9/site-packages (from xgboost) (1.25.2)\r\n",
      "Requirement already satisfied: scipy in /opt/anaconda3/envs/ml-zoomcamp/lib/python3.9/site-packages (from xgboost) (1.11.1)\r\n"
     ]
    }
   ],
   "source": [
    "!pip install xgboost"
   ]
  },
  {
   "cell_type": "markdown",
   "id": "5c85ffd5",
   "metadata": {},
   "source": [
    "## Data preparation & Cleaning"
   ]
  },
  {
   "cell_type": "markdown",
   "id": "85bf318a",
   "metadata": {},
   "source": [
    "#### Read data with pandas"
   ]
  },
  {
   "cell_type": "code",
   "execution_count": 59,
   "id": "6b6d5a8e",
   "metadata": {},
   "outputs": [],
   "source": [
    "# Read CSVs into dataframes\n",
    "players_df = pd.read_csv(\"./data-raw/players.csv\")\n",
    "games_df = pd.read_csv(\"./data-raw/games.csv\")\n",
    "appearances_df = pd.read_csv(\"./data-raw/appearances.csv\")"
   ]
  },
  {
   "cell_type": "code",
   "execution_count": 60,
   "id": "0453bd7b",
   "metadata": {},
   "outputs": [
    {
     "data": {
      "text/plain": [
       "(30302, 64434, 1489578)"
      ]
     },
     "execution_count": 60,
     "metadata": {},
     "output_type": "execute_result"
    }
   ],
   "source": [
    "len(players_df), len(games_df), len(appearances_df)"
   ]
  },
  {
   "cell_type": "code",
   "execution_count": 61,
   "id": "37927615",
   "metadata": {},
   "outputs": [
    {
     "data": {
      "text/plain": [
       "player_id                                 int64\n",
       "first_name                               object\n",
       "last_name                                object\n",
       "name                                     object\n",
       "last_season                               int64\n",
       "current_club_id                           int64\n",
       "player_code                              object\n",
       "country_of_birth                         object\n",
       "city_of_birth                            object\n",
       "country_of_citizenship                   object\n",
       "date_of_birth                            object\n",
       "sub_position                             object\n",
       "position                                 object\n",
       "foot                                     object\n",
       "height_in_cm                            float64\n",
       "market_value_in_eur                     float64\n",
       "highest_market_value_in_eur             float64\n",
       "contract_expiration_date                 object\n",
       "agent_name                               object\n",
       "image_url                                object\n",
       "url                                      object\n",
       "current_club_domestic_competition_id     object\n",
       "current_club_name                        object\n",
       "dtype: object"
      ]
     },
     "execution_count": 61,
     "metadata": {},
     "output_type": "execute_result"
    }
   ],
   "source": [
    "players_df.dtypes"
   ]
  },
  {
   "cell_type": "code",
   "execution_count": 62,
   "id": "774fc083",
   "metadata": {},
   "outputs": [
    {
     "data": {
      "text/plain": [
       "game_id                     int64\n",
       "competition_id             object\n",
       "season                      int64\n",
       "round                      object\n",
       "date                       object\n",
       "home_club_id                int64\n",
       "away_club_id                int64\n",
       "home_club_goals             int64\n",
       "away_club_goals             int64\n",
       "home_club_position        float64\n",
       "away_club_position        float64\n",
       "home_club_manager_name     object\n",
       "away_club_manager_name     object\n",
       "stadium                    object\n",
       "attendance                float64\n",
       "referee                    object\n",
       "url                        object\n",
       "home_club_formation        object\n",
       "away_club_formation        object\n",
       "home_club_name             object\n",
       "away_club_name             object\n",
       "aggregate                  object\n",
       "competition_type           object\n",
       "dtype: object"
      ]
     },
     "execution_count": 62,
     "metadata": {},
     "output_type": "execute_result"
    }
   ],
   "source": [
    "games_df.dtypes"
   ]
  },
  {
   "cell_type": "code",
   "execution_count": 63,
   "id": "5ba49c0c",
   "metadata": {},
   "outputs": [
    {
     "data": {
      "text/plain": [
       "appearance_id             object\n",
       "game_id                    int64\n",
       "player_id                  int64\n",
       "player_club_id             int64\n",
       "player_current_club_id     int64\n",
       "date                      object\n",
       "player_name               object\n",
       "competition_id            object\n",
       "yellow_cards               int64\n",
       "red_cards                  int64\n",
       "goals                      int64\n",
       "assists                    int64\n",
       "minutes_played             int64\n",
       "dtype: object"
      ]
     },
     "execution_count": 63,
     "metadata": {},
     "output_type": "execute_result"
    }
   ],
   "source": [
    "appearances_df.dtypes"
   ]
  },
  {
   "cell_type": "markdown",
   "id": "c389067d",
   "metadata": {},
   "source": [
    "#### Take most updated playes data only "
   ]
  },
  {
   "cell_type": "code",
   "execution_count": 64,
   "id": "c6ffd851",
   "metadata": {},
   "outputs": [
    {
     "data": {
      "text/plain": [
       "array([2014, 2012, 2013, 2015, 2017, 2020, 2018, 2019, 2016, 2021, 2022,\n",
       "       2023])"
      ]
     },
     "execution_count": 64,
     "metadata": {},
     "output_type": "execute_result"
    }
   ],
   "source": [
    "# check most update players's last season \n",
    "players_df['last_season'].unique()"
   ]
  },
  {
   "cell_type": "code",
   "execution_count": 65,
   "id": "d8a14237",
   "metadata": {},
   "outputs": [
    {
     "data": {
      "text/plain": [
       "6539"
      ]
     },
     "execution_count": 65,
     "metadata": {},
     "output_type": "execute_result"
    }
   ],
   "source": [
    "players_df = players_df[players_df[\"last_season\"] == 2023]\n",
    "len(players_df)"
   ]
  },
  {
   "cell_type": "markdown",
   "id": "4a8f0a26",
   "metadata": {},
   "source": [
    "#### Merge all data player to get final dataset"
   ]
  },
  {
   "cell_type": "code",
   "execution_count": 66,
   "id": "3655c97b",
   "metadata": {},
   "outputs": [],
   "source": [
    "games_and_apps_df = appearances_df.merge(games_df, on=['game_id'], how='left')\n",
    "\n",
    "def get_player_stats(player_id, season, df):\n",
    "    \n",
    "    df = df[df['player_id'] == player_id]\n",
    "    df = df[df['season'] == season]\n",
    "    \n",
    "    if (df.shape[0] == 0):\n",
    "        Out = [(np.nan, season,0,0,0,0,0,0,0)]\n",
    "        out_df = pd.DataFrame(data = Out, columns = ['player_id','season','goals','games',\n",
    "                                                     'assists','minutes_played','goals_for','goals_against','clean_sheet'])\n",
    "        return out_df\n",
    "    \n",
    "    else:\n",
    "        \n",
    "        df[\"goals_for\"] = df.apply(lambda row: row['home_club_goals'] if row['home_club_id'] == row['player_club_id'] \n",
    "                      else row['away_club_goals'] if row['away_club_id'] == row['player_club_id'] \n",
    "                      else np.nan, axis=1)\n",
    "        df[\"goals_against\"] = df.apply(lambda row: row['away_club_goals'] if row['home_club_id'] == row['player_club_id'] \n",
    "                      else row['home_club_goals'] if row['away_club_id'] == row['player_club_id'] \n",
    "                      else np.nan, axis=1)\n",
    "        df['clean_sheet'] = df.apply(lambda row: 1 if row['goals_against'] == 0\n",
    "                      else 0 if row['goals_against'] > 0\n",
    "                      else np.nan, axis=1)\n",
    "        \n",
    "        df = df.groupby(['player_id',\"season\"],as_index=False).agg({'goals': 'sum', 'game_id': 'nunique', \n",
    "                                                                      'assists': 'sum', 'minutes_played' : 'sum', 'goals_for' : 'sum',\n",
    "                                                                      'goals_against' : 'sum', 'clean_sheet' : 'sum'})\n",
    "        out_df = df.rename(columns={'game_id': 'games'})\n",
    "\n",
    "        return out_df\n",
    "    \n",
    "    \n",
    "stat_season = 2022\n",
    "for index in players_df.index:\n",
    "    id = players_df.loc[index][0]\n",
    "    name = players_df.loc[index][1]\n",
    "    stats = get_player_stats(id, stat_season, games_and_apps_df)\n",
    "    players_df.at[index,'goals_{}'.format(stat_season)]= stats['goals'][0]\n",
    "    players_df.at[index,'games_{}'.format(stat_season)]= stats['games'][0]\n",
    "    players_df.at[index,'assists_{}'.format(stat_season)]= stats['assists'][0]\n",
    "    players_df.at[index,'minutes_played_{}'.format(stat_season)]= stats['minutes_played'][0]\n",
    "    players_df.at[index,'goals_for_{}'.format(stat_season)]= stats['goals_for'][0]\n",
    "    players_df.at[index,'goals_against_{}'.format(stat_season)]= stats['goals_against'][0]\n",
    "    players_df.at[index,'clean_sheet_{}'.format(stat_season)]= stats['clean_sheet'][0]"
   ]
  },
  {
   "cell_type": "code",
   "execution_count": 67,
   "id": "ae503f32",
   "metadata": {},
   "outputs": [
    {
     "data": {
      "text/plain": [
       "Index(['player_id', 'first_name', 'last_name', 'name', 'last_season',\n",
       "       'current_club_id', 'player_code', 'country_of_birth', 'city_of_birth',\n",
       "       'country_of_citizenship', 'date_of_birth', 'sub_position', 'position',\n",
       "       'foot', 'height_in_cm', 'market_value_in_eur',\n",
       "       'highest_market_value_in_eur', 'contract_expiration_date', 'agent_name',\n",
       "       'image_url', 'url', 'current_club_domestic_competition_id',\n",
       "       'current_club_name', 'goals_2022', 'games_2022', 'assists_2022',\n",
       "       'minutes_played_2022', 'goals_for_2022', 'goals_against_2022',\n",
       "       'clean_sheet_2022'],\n",
       "      dtype='object')"
      ]
     },
     "execution_count": 67,
     "metadata": {},
     "output_type": "execute_result"
    }
   ],
   "source": [
    "players_df.columns"
   ]
  },
  {
   "cell_type": "code",
   "execution_count": 68,
   "id": "ef81dd19",
   "metadata": {},
   "outputs": [],
   "source": [
    "# we dont have age column, but can construct it from date of birth\n",
    "players_df['date_of_birth'] = pd.to_datetime(players_df['date_of_birth'])\n",
    "\n",
    "\n",
    "players_df = players_df[players_df['date_of_birth'].isnull() == False]\n",
    "now = datetime.now()\n",
    "\n",
    "players_df['age'] = (now - players_df['date_of_birth']).apply(lambda x: x.days) / 365.25\n",
    "players_df['age'] = players_df['age'].round().astype(int)"
   ]
  },
  {
   "cell_type": "markdown",
   "id": "d7935d6d",
   "metadata": {},
   "source": [
    "#### Handling missing value with drop "
   ]
  },
  {
   "cell_type": "code",
   "execution_count": 69,
   "id": "54c52757",
   "metadata": {},
   "outputs": [
    {
     "data": {
      "text/plain": [
       "player_id                                  0\n",
       "first_name                               384\n",
       "last_name                                  0\n",
       "name                                       0\n",
       "last_season                                0\n",
       "current_club_id                            0\n",
       "player_code                                0\n",
       "country_of_birth                         362\n",
       "city_of_birth                            360\n",
       "country_of_citizenship                     0\n",
       "date_of_birth                              0\n",
       "sub_position                               2\n",
       "position                                   0\n",
       "foot                                     222\n",
       "height_in_cm                             225\n",
       "market_value_in_eur                       46\n",
       "highest_market_value_in_eur               45\n",
       "contract_expiration_date                 226\n",
       "agent_name                              2000\n",
       "image_url                                  0\n",
       "url                                        0\n",
       "current_club_domestic_competition_id       0\n",
       "current_club_name                          0\n",
       "goals_2022                                 0\n",
       "games_2022                                 0\n",
       "assists_2022                               0\n",
       "minutes_played_2022                        0\n",
       "goals_for_2022                             0\n",
       "goals_against_2022                         0\n",
       "clean_sheet_2022                           0\n",
       "age                                        0\n",
       "dtype: int64"
      ]
     },
     "execution_count": 69,
     "metadata": {},
     "output_type": "execute_result"
    }
   ],
   "source": [
    "players_df.isnull().sum()"
   ]
  },
  {
   "cell_type": "code",
   "execution_count": 70,
   "id": "bbcd6e64",
   "metadata": {},
   "outputs": [
    {
     "data": {
      "text/plain": [
       "player_id                                  0\n",
       "first_name                               378\n",
       "last_name                                  0\n",
       "name                                       0\n",
       "last_season                                0\n",
       "current_club_id                            0\n",
       "player_code                                0\n",
       "country_of_birth                         225\n",
       "city_of_birth                            225\n",
       "country_of_citizenship                     0\n",
       "date_of_birth                              0\n",
       "sub_position                               0\n",
       "position                                   0\n",
       "foot                                       0\n",
       "height_in_cm                               0\n",
       "market_value_in_eur                        0\n",
       "highest_market_value_in_eur                0\n",
       "contract_expiration_date                 179\n",
       "agent_name                              1839\n",
       "image_url                                  0\n",
       "url                                        0\n",
       "current_club_domestic_competition_id       0\n",
       "current_club_name                          0\n",
       "goals_2022                                 0\n",
       "games_2022                                 0\n",
       "assists_2022                               0\n",
       "minutes_played_2022                        0\n",
       "goals_for_2022                             0\n",
       "goals_against_2022                         0\n",
       "clean_sheet_2022                           0\n",
       "age                                        0\n",
       "dtype: int64"
      ]
     },
     "execution_count": 70,
     "metadata": {},
     "output_type": "execute_result"
    }
   ],
   "source": [
    "# we only care missing value in importants columns\n",
    "players_df = players_df.dropna(subset = ['foot','height_in_cm','market_value_in_eur','highest_market_value_in_eur'])\n",
    "players_df.isnull().sum()"
   ]
  },
  {
   "cell_type": "code",
   "execution_count": 71,
   "id": "1ffc9098",
   "metadata": {},
   "outputs": [
    {
     "data": {
      "text/plain": [
       "6170"
      ]
     },
     "execution_count": 71,
     "metadata": {},
     "output_type": "execute_result"
    }
   ],
   "source": [
    "len(players_df)"
   ]
  },
  {
   "cell_type": "code",
   "execution_count": 72,
   "id": "c4ccd820",
   "metadata": {},
   "outputs": [
    {
     "data": {
      "text/html": [
       "<div>\n",
       "<style scoped>\n",
       "    .dataframe tbody tr th:only-of-type {\n",
       "        vertical-align: middle;\n",
       "    }\n",
       "\n",
       "    .dataframe tbody tr th {\n",
       "        vertical-align: top;\n",
       "    }\n",
       "\n",
       "    .dataframe thead th {\n",
       "        text-align: right;\n",
       "    }\n",
       "</style>\n",
       "<table border=\"1\" class=\"dataframe\">\n",
       "  <thead>\n",
       "    <tr style=\"text-align: right;\">\n",
       "      <th></th>\n",
       "      <th>player_id</th>\n",
       "      <th>first_name</th>\n",
       "      <th>last_name</th>\n",
       "      <th>name</th>\n",
       "      <th>last_season</th>\n",
       "      <th>current_club_id</th>\n",
       "      <th>player_code</th>\n",
       "      <th>country_of_birth</th>\n",
       "      <th>city_of_birth</th>\n",
       "      <th>country_of_citizenship</th>\n",
       "      <th>...</th>\n",
       "      <th>current_club_domestic_competition_id</th>\n",
       "      <th>current_club_name</th>\n",
       "      <th>goals_2022</th>\n",
       "      <th>games_2022</th>\n",
       "      <th>assists_2022</th>\n",
       "      <th>minutes_played_2022</th>\n",
       "      <th>goals_for_2022</th>\n",
       "      <th>goals_against_2022</th>\n",
       "      <th>clean_sheet_2022</th>\n",
       "      <th>age</th>\n",
       "    </tr>\n",
       "  </thead>\n",
       "  <tbody>\n",
       "    <tr>\n",
       "      <th>0</th>\n",
       "      <td>22860</td>\n",
       "      <td>Jesper</td>\n",
       "      <td>Hansen</td>\n",
       "      <td>Jesper Hansen</td>\n",
       "      <td>2023</td>\n",
       "      <td>678</td>\n",
       "      <td>jesper-hansen</td>\n",
       "      <td>Denmark</td>\n",
       "      <td>Slangerup</td>\n",
       "      <td>Denmark</td>\n",
       "      <td>...</td>\n",
       "      <td>DK1</td>\n",
       "      <td>Aarhus GF</td>\n",
       "      <td>0.0</td>\n",
       "      <td>25.0</td>\n",
       "      <td>0.0</td>\n",
       "      <td>2250.0</td>\n",
       "      <td>37.0</td>\n",
       "      <td>22.0</td>\n",
       "      <td>9.0</td>\n",
       "      <td>39</td>\n",
       "    </tr>\n",
       "    <tr>\n",
       "      <th>1</th>\n",
       "      <td>30321</td>\n",
       "      <td>Óscar</td>\n",
       "      <td>Trejo</td>\n",
       "      <td>Óscar Trejo</td>\n",
       "      <td>2023</td>\n",
       "      <td>367</td>\n",
       "      <td>oscar-trejo</td>\n",
       "      <td>Argentina</td>\n",
       "      <td>Santiago del Estero</td>\n",
       "      <td>Argentina</td>\n",
       "      <td>...</td>\n",
       "      <td>ES1</td>\n",
       "      <td>Rayo Vallecano</td>\n",
       "      <td>3.0</td>\n",
       "      <td>37.0</td>\n",
       "      <td>5.0</td>\n",
       "      <td>2306.0</td>\n",
       "      <td>47.0</td>\n",
       "      <td>52.0</td>\n",
       "      <td>8.0</td>\n",
       "      <td>36</td>\n",
       "    </tr>\n",
       "    <tr>\n",
       "      <th>2</th>\n",
       "      <td>38780</td>\n",
       "      <td>Vítor</td>\n",
       "      <td>Gomes</td>\n",
       "      <td>Vítor Gomes</td>\n",
       "      <td>2023</td>\n",
       "      <td>2425</td>\n",
       "      <td>vitor-gomes</td>\n",
       "      <td>Portugal</td>\n",
       "      <td>Vila do Conde</td>\n",
       "      <td>Portugal</td>\n",
       "      <td>...</td>\n",
       "      <td>PO1</td>\n",
       "      <td>Rio Ave FC</td>\n",
       "      <td>0.0</td>\n",
       "      <td>22.0</td>\n",
       "      <td>1.0</td>\n",
       "      <td>826.0</td>\n",
       "      <td>28.0</td>\n",
       "      <td>30.0</td>\n",
       "      <td>8.0</td>\n",
       "      <td>36</td>\n",
       "    </tr>\n",
       "    <tr>\n",
       "      <th>3</th>\n",
       "      <td>40204</td>\n",
       "      <td>Joe</td>\n",
       "      <td>Hart</td>\n",
       "      <td>Joe Hart</td>\n",
       "      <td>2023</td>\n",
       "      <td>371</td>\n",
       "      <td>joe-hart</td>\n",
       "      <td>England</td>\n",
       "      <td>Shrewsbury</td>\n",
       "      <td>England</td>\n",
       "      <td>...</td>\n",
       "      <td>SC1</td>\n",
       "      <td>Celtic FC</td>\n",
       "      <td>0.0</td>\n",
       "      <td>44.0</td>\n",
       "      <td>0.0</td>\n",
       "      <td>3960.0</td>\n",
       "      <td>124.0</td>\n",
       "      <td>42.0</td>\n",
       "      <td>17.0</td>\n",
       "      <td>37</td>\n",
       "    </tr>\n",
       "    <tr>\n",
       "      <th>4</th>\n",
       "      <td>43250</td>\n",
       "      <td>Jan</td>\n",
       "      <td>Vertonghen</td>\n",
       "      <td>Jan Vertonghen</td>\n",
       "      <td>2023</td>\n",
       "      <td>58</td>\n",
       "      <td>jan-vertonghen</td>\n",
       "      <td>Belgium</td>\n",
       "      <td>Sint-Niklaas</td>\n",
       "      <td>Belgium</td>\n",
       "      <td>...</td>\n",
       "      <td>BE1</td>\n",
       "      <td>RSC Anderlecht</td>\n",
       "      <td>1.0</td>\n",
       "      <td>25.0</td>\n",
       "      <td>0.0</td>\n",
       "      <td>2078.0</td>\n",
       "      <td>37.0</td>\n",
       "      <td>36.0</td>\n",
       "      <td>9.0</td>\n",
       "      <td>37</td>\n",
       "    </tr>\n",
       "    <tr>\n",
       "      <th>...</th>\n",
       "      <td>...</td>\n",
       "      <td>...</td>\n",
       "      <td>...</td>\n",
       "      <td>...</td>\n",
       "      <td>...</td>\n",
       "      <td>...</td>\n",
       "      <td>...</td>\n",
       "      <td>...</td>\n",
       "      <td>...</td>\n",
       "      <td>...</td>\n",
       "      <td>...</td>\n",
       "      <td>...</td>\n",
       "      <td>...</td>\n",
       "      <td>...</td>\n",
       "      <td>...</td>\n",
       "      <td>...</td>\n",
       "      <td>...</td>\n",
       "      <td>...</td>\n",
       "      <td>...</td>\n",
       "      <td>...</td>\n",
       "      <td>...</td>\n",
       "    </tr>\n",
       "    <tr>\n",
       "      <th>6165</th>\n",
       "      <td>1025424</td>\n",
       "      <td>Solomon</td>\n",
       "      <td>Agbalaka</td>\n",
       "      <td>Solomon Agbalaka</td>\n",
       "      <td>2023</td>\n",
       "      <td>41231</td>\n",
       "      <td>solomon-agbalaka</td>\n",
       "      <td>NaN</td>\n",
       "      <td>NaN</td>\n",
       "      <td>Nigeria</td>\n",
       "      <td>...</td>\n",
       "      <td>RU1</td>\n",
       "      <td>FC Sochi</td>\n",
       "      <td>0.0</td>\n",
       "      <td>0.0</td>\n",
       "      <td>0.0</td>\n",
       "      <td>0.0</td>\n",
       "      <td>0.0</td>\n",
       "      <td>0.0</td>\n",
       "      <td>0.0</td>\n",
       "      <td>20</td>\n",
       "    </tr>\n",
       "    <tr>\n",
       "      <th>6166</th>\n",
       "      <td>284732</td>\n",
       "      <td>Ramy</td>\n",
       "      <td>Bensebaini</td>\n",
       "      <td>Ramy Bensebaini</td>\n",
       "      <td>2023</td>\n",
       "      <td>16</td>\n",
       "      <td>ramy-bensebaini</td>\n",
       "      <td>Algeria</td>\n",
       "      <td>Constantine</td>\n",
       "      <td>Algeria</td>\n",
       "      <td>...</td>\n",
       "      <td>L1</td>\n",
       "      <td>Borussia Dortmund</td>\n",
       "      <td>7.0</td>\n",
       "      <td>30.0</td>\n",
       "      <td>1.0</td>\n",
       "      <td>2570.0</td>\n",
       "      <td>55.0</td>\n",
       "      <td>44.0</td>\n",
       "      <td>9.0</td>\n",
       "      <td>29</td>\n",
       "    </tr>\n",
       "    <tr>\n",
       "      <th>6167</th>\n",
       "      <td>371851</td>\n",
       "      <td>Jaka</td>\n",
       "      <td>Bijol</td>\n",
       "      <td>Jaka Bijol</td>\n",
       "      <td>2023</td>\n",
       "      <td>410</td>\n",
       "      <td>jaka-bijol</td>\n",
       "      <td>Slovenia</td>\n",
       "      <td>Vuzenica</td>\n",
       "      <td>Slovenia</td>\n",
       "      <td>...</td>\n",
       "      <td>IT1</td>\n",
       "      <td>Udinese Calcio</td>\n",
       "      <td>3.0</td>\n",
       "      <td>33.0</td>\n",
       "      <td>2.0</td>\n",
       "      <td>2805.0</td>\n",
       "      <td>39.0</td>\n",
       "      <td>39.0</td>\n",
       "      <td>10.0</td>\n",
       "      <td>25</td>\n",
       "    </tr>\n",
       "    <tr>\n",
       "      <th>6168</th>\n",
       "      <td>586756</td>\n",
       "      <td>Festy</td>\n",
       "      <td>Ebosele</td>\n",
       "      <td>Festy Ebosele</td>\n",
       "      <td>2023</td>\n",
       "      <td>410</td>\n",
       "      <td>festy-ebosele</td>\n",
       "      <td>Ireland</td>\n",
       "      <td>Enniscorthy, Wexford</td>\n",
       "      <td>Ireland</td>\n",
       "      <td>...</td>\n",
       "      <td>IT1</td>\n",
       "      <td>Udinese Calcio</td>\n",
       "      <td>0.0</td>\n",
       "      <td>18.0</td>\n",
       "      <td>1.0</td>\n",
       "      <td>446.0</td>\n",
       "      <td>20.0</td>\n",
       "      <td>27.0</td>\n",
       "      <td>4.0</td>\n",
       "      <td>21</td>\n",
       "    </tr>\n",
       "    <tr>\n",
       "      <th>6169</th>\n",
       "      <td>925584</td>\n",
       "      <td>Axel</td>\n",
       "      <td>Guessand</td>\n",
       "      <td>Axel Guessand</td>\n",
       "      <td>2023</td>\n",
       "      <td>410</td>\n",
       "      <td>axel-guessand</td>\n",
       "      <td>France</td>\n",
       "      <td>Schiltigheim</td>\n",
       "      <td>France</td>\n",
       "      <td>...</td>\n",
       "      <td>IT1</td>\n",
       "      <td>Udinese Calcio</td>\n",
       "      <td>0.0</td>\n",
       "      <td>1.0</td>\n",
       "      <td>0.0</td>\n",
       "      <td>80.0</td>\n",
       "      <td>0.0</td>\n",
       "      <td>1.0</td>\n",
       "      <td>0.0</td>\n",
       "      <td>19</td>\n",
       "    </tr>\n",
       "  </tbody>\n",
       "</table>\n",
       "<p>6170 rows × 31 columns</p>\n",
       "</div>"
      ],
      "text/plain": [
       "      player_id first_name   last_name              name  last_season  \\\n",
       "0         22860     Jesper      Hansen     Jesper Hansen         2023   \n",
       "1         30321      Óscar       Trejo       Óscar Trejo         2023   \n",
       "2         38780      Vítor       Gomes       Vítor Gomes         2023   \n",
       "3         40204        Joe        Hart          Joe Hart         2023   \n",
       "4         43250        Jan  Vertonghen    Jan Vertonghen         2023   \n",
       "...         ...        ...         ...               ...          ...   \n",
       "6165    1025424    Solomon    Agbalaka  Solomon Agbalaka         2023   \n",
       "6166     284732       Ramy  Bensebaini   Ramy Bensebaini         2023   \n",
       "6167     371851       Jaka       Bijol        Jaka Bijol         2023   \n",
       "6168     586756      Festy     Ebosele     Festy Ebosele         2023   \n",
       "6169     925584       Axel    Guessand     Axel Guessand         2023   \n",
       "\n",
       "      current_club_id       player_code country_of_birth  \\\n",
       "0                 678     jesper-hansen          Denmark   \n",
       "1                 367       oscar-trejo        Argentina   \n",
       "2                2425       vitor-gomes         Portugal   \n",
       "3                 371          joe-hart          England   \n",
       "4                  58    jan-vertonghen          Belgium   \n",
       "...               ...               ...              ...   \n",
       "6165            41231  solomon-agbalaka              NaN   \n",
       "6166               16   ramy-bensebaini          Algeria   \n",
       "6167              410        jaka-bijol         Slovenia   \n",
       "6168              410     festy-ebosele          Ireland   \n",
       "6169              410     axel-guessand           France   \n",
       "\n",
       "             city_of_birth country_of_citizenship  ...  \\\n",
       "0                Slangerup                Denmark  ...   \n",
       "1      Santiago del Estero              Argentina  ...   \n",
       "2            Vila do Conde               Portugal  ...   \n",
       "3               Shrewsbury                England  ...   \n",
       "4             Sint-Niklaas                Belgium  ...   \n",
       "...                    ...                    ...  ...   \n",
       "6165                   NaN                Nigeria  ...   \n",
       "6166           Constantine                Algeria  ...   \n",
       "6167              Vuzenica               Slovenia  ...   \n",
       "6168  Enniscorthy, Wexford                Ireland  ...   \n",
       "6169          Schiltigheim                 France  ...   \n",
       "\n",
       "     current_club_domestic_competition_id  current_club_name goals_2022  \\\n",
       "0                                     DK1          Aarhus GF        0.0   \n",
       "1                                     ES1     Rayo Vallecano        3.0   \n",
       "2                                     PO1         Rio Ave FC        0.0   \n",
       "3                                     SC1          Celtic FC        0.0   \n",
       "4                                     BE1     RSC Anderlecht        1.0   \n",
       "...                                   ...                ...        ...   \n",
       "6165                                  RU1           FC Sochi        0.0   \n",
       "6166                                   L1  Borussia Dortmund        7.0   \n",
       "6167                                  IT1     Udinese Calcio        3.0   \n",
       "6168                                  IT1     Udinese Calcio        0.0   \n",
       "6169                                  IT1     Udinese Calcio        0.0   \n",
       "\n",
       "     games_2022  assists_2022  minutes_played_2022  goals_for_2022  \\\n",
       "0          25.0           0.0               2250.0            37.0   \n",
       "1          37.0           5.0               2306.0            47.0   \n",
       "2          22.0           1.0                826.0            28.0   \n",
       "3          44.0           0.0               3960.0           124.0   \n",
       "4          25.0           0.0               2078.0            37.0   \n",
       "...         ...           ...                  ...             ...   \n",
       "6165        0.0           0.0                  0.0             0.0   \n",
       "6166       30.0           1.0               2570.0            55.0   \n",
       "6167       33.0           2.0               2805.0            39.0   \n",
       "6168       18.0           1.0                446.0            20.0   \n",
       "6169        1.0           0.0                 80.0             0.0   \n",
       "\n",
       "     goals_against_2022 clean_sheet_2022 age  \n",
       "0                  22.0              9.0  39  \n",
       "1                  52.0              8.0  36  \n",
       "2                  30.0              8.0  36  \n",
       "3                  42.0             17.0  37  \n",
       "4                  36.0              9.0  37  \n",
       "...                 ...              ...  ..  \n",
       "6165                0.0              0.0  20  \n",
       "6166               44.0              9.0  29  \n",
       "6167               39.0             10.0  25  \n",
       "6168               27.0              4.0  21  \n",
       "6169                1.0              0.0  19  \n",
       "\n",
       "[6170 rows x 31 columns]"
      ]
     },
     "execution_count": 72,
     "metadata": {},
     "output_type": "execute_result"
    }
   ],
   "source": [
    "#reset index of dataset\n",
    "players_df = players_df.reset_index(drop=True)\n",
    "players_df"
   ]
  },
  {
   "cell_type": "markdown",
   "id": "a0813401",
   "metadata": {},
   "source": [
    "## EDA"
   ]
  },
  {
   "cell_type": "markdown",
   "id": "dc5d40e7",
   "metadata": {},
   "source": [
    "### Basic Statistic"
   ]
  },
  {
   "cell_type": "code",
   "execution_count": 73,
   "id": "eadb9891",
   "metadata": {},
   "outputs": [
    {
     "name": "stdout",
     "output_type": "stream",
     "text": [
      "========== player_id ==========\n",
      "sample data: [22860 30321 38780 40204 43250] \n",
      "no. of unique value: 6170 \n",
      "\n",
      "========== first_name ==========\n",
      "sample data: ['Jesper' 'Óscar' 'Vítor' 'Joe' 'Jan'] \n",
      "no. of unique value: 2463 \n",
      "\n",
      "========== last_name ==========\n",
      "sample data: ['Hansen' 'Trejo' 'Gomes' 'Hart' 'Vertonghen'] \n",
      "no. of unique value: 5364 \n",
      "\n",
      "========== name ==========\n",
      "sample data: ['Jesper Hansen' 'Óscar Trejo' 'Vítor Gomes' 'Joe Hart' 'Jan Vertonghen'] \n",
      "no. of unique value: 6135 \n",
      "\n",
      "========== last_season ==========\n",
      "sample data: [2023] \n",
      "no. of unique value: 1 \n",
      "\n",
      "========== current_club_id ==========\n",
      "sample data: [ 678  367 2425  371   58] \n",
      "no. of unique value: 238 \n",
      "\n",
      "========== player_code ==========\n",
      "sample data: ['jesper-hansen' 'oscar-trejo' 'vitor-gomes' 'joe-hart' 'jan-vertonghen'] \n",
      "no. of unique value: 6133 \n",
      "\n",
      "========== country_of_birth ==========\n",
      "sample data: ['Denmark' 'Argentina' 'Portugal' 'England' 'Belgium'] \n",
      "no. of unique value: 141 \n",
      "\n",
      "========== city_of_birth ==========\n",
      "sample data: ['Slangerup' 'Santiago del Estero' 'Vila do Conde' 'Shrewsbury'\n",
      " 'Sint-Niklaas'] \n",
      "no. of unique value: 2973 \n",
      "\n",
      "========== country_of_citizenship ==========\n",
      "sample data: ['Denmark' 'Argentina' 'Portugal' 'England' 'Belgium'] \n",
      "no. of unique value: 133 \n",
      "\n",
      "========== date_of_birth ==========\n",
      "sample data: <DatetimeArray>\n",
      "['1985-03-31 00:00:00', '1988-04-26 00:00:00', '1987-12-25 00:00:00',\n",
      " '1987-04-19 00:00:00', '1987-04-24 00:00:00']\n",
      "Length: 5, dtype: datetime64[ns] \n",
      "no. of unique value: 3808 \n",
      "\n",
      "========== sub_position ==========\n",
      "sample data: ['Goalkeeper' 'Attacking Midfield' 'Defensive Midfield' 'Centre-Back'\n",
      " 'Right Winger'] \n",
      "no. of unique value: 13 \n",
      "\n",
      "========== position ==========\n",
      "sample data: ['Goalkeeper' 'Midfield' 'Defender' 'Attack'] \n",
      "no. of unique value: 4 \n",
      "\n",
      "========== foot ==========\n",
      "sample data: ['right' 'left' 'both'] \n",
      "no. of unique value: 3 \n",
      "\n",
      "========== height_in_cm ==========\n",
      "sample data: [188. 180. 182. 196. 189.] \n",
      "no. of unique value: 45 \n",
      "\n",
      "========== market_value_in_eur ==========\n",
      "sample data: [ 200000. 2500000.  100000. 1500000. 1000000.] \n",
      "no. of unique value: 114 \n",
      "\n",
      "========== highest_market_value_in_eur ==========\n",
      "sample data: [ 1000000.  4000000.  1500000. 24000000. 32000000.] \n",
      "no. of unique value: 139 \n",
      "\n",
      "========== contract_expiration_date ==========\n",
      "sample data: ['2024-06-30 00:00:00' '2024-05-31 00:00:00' '2025-06-30 00:00:00'\n",
      " '2026-06-30 00:00:00' nan] \n",
      "no. of unique value: 30 \n",
      "\n",
      "========== agent_name ==========\n",
      "sample data: ['Boutique Transfers' 'Eleven Talent Group' 'Gestifute' 'OmniSports'\n",
      " 'A-GROUP'] \n",
      "no. of unique value: 1081 \n",
      "\n",
      "========== image_url ==========\n",
      "sample data: ['https://img.a.transfermarkt.technology/portrait/header/22860-1601543044.jpg?lm=1'\n",
      " 'https://img.a.transfermarkt.technology/portrait/header/30321-1653039805.jpg?lm=1'\n",
      " 'https://img.a.transfermarkt.technology/portrait/header/38780-1676547235.jpg?lm=1'\n",
      " 'https://img.a.transfermarkt.technology/portrait/header/40204-1471254796.jpg?lm=1'\n",
      " 'https://img.a.transfermarkt.technology/portrait/header/43250-1668080180.jpg?lm=1'] \n",
      "no. of unique value: 5896 \n",
      "\n",
      "========== url ==========\n",
      "sample data: ['https://www.transfermarkt.co.uk/jesper-hansen/profil/spieler/22860'\n",
      " 'https://www.transfermarkt.co.uk/oscar-trejo/profil/spieler/30321'\n",
      " 'https://www.transfermarkt.co.uk/vitor-gomes/profil/spieler/38780'\n",
      " 'https://www.transfermarkt.co.uk/joe-hart/profil/spieler/40204'\n",
      " 'https://www.transfermarkt.co.uk/jan-vertonghen/profil/spieler/43250'] \n",
      "no. of unique value: 6170 \n",
      "\n",
      "========== current_club_domestic_competition_id ==========\n",
      "sample data: ['DK1' 'ES1' 'PO1' 'SC1' 'BE1'] \n",
      "no. of unique value: 14 \n",
      "\n",
      "========== current_club_name ==========\n",
      "sample data: ['Aarhus GF' 'Rayo Vallecano' 'Rio Ave FC' 'Celtic FC' 'RSC Anderlecht'] \n",
      "no. of unique value: 238 \n",
      "\n",
      "========== goals_2022 ==========\n",
      "sample data: [0. 3. 1. 8. 4.] \n",
      "no. of unique value: 33 \n",
      "\n",
      "========== games_2022 ==========\n",
      "sample data: [25. 37. 22. 44. 46.] \n",
      "no. of unique value: 58 \n",
      "\n",
      "========== assists_2022 ==========\n",
      "sample data: [0. 5. 1. 7. 2.] \n",
      "no. of unique value: 22 \n",
      "\n",
      "========== minutes_played_2022 ==========\n",
      "sample data: [2250. 2306.  826. 3960. 2078.] \n",
      "no. of unique value: 2489 \n",
      "\n",
      "========== goals_for_2022 ==========\n",
      "sample data: [ 37.  47.  28. 124.  95.] \n",
      "no. of unique value: 129 \n",
      "\n",
      "========== goals_against_2022 ==========\n",
      "sample data: [22. 52. 30. 42. 36.] \n",
      "no. of unique value: 81 \n",
      "\n",
      "========== clean_sheet_2022 ==========\n",
      "sample data: [ 9.  8. 17. 18.  3.] \n",
      "no. of unique value: 29 \n",
      "\n",
      "========== age ==========\n",
      "sample data: [39 36 37 33 35] \n",
      "no. of unique value: 27 \n",
      "\n"
     ]
    }
   ],
   "source": [
    "#see each column data statistic\n",
    "for col in players_df.columns:\n",
    "    print(\"========== {} ==========\".format(col) )\n",
    "    print(\"sample data: {} \".format(players_df[col].unique()[:5]))\n",
    "    print(\"no. of unique value: {} \".format(players_df[col].nunique()))\n",
    "    print()"
   ]
  },
  {
   "cell_type": "markdown",
   "id": "b1ccda6c",
   "metadata": {},
   "source": [
    "#### player's age distribution"
   ]
  },
  {
   "cell_type": "code",
   "execution_count": 74,
   "id": "deb0228b",
   "metadata": {},
   "outputs": [
    {
     "data": {
      "text/plain": [
       "<Axes: xlabel='age'>"
      ]
     },
     "execution_count": 74,
     "metadata": {},
     "output_type": "execute_result"
    },
    {
     "data": {
      "image/png": "[encoded data removed]",
      "text/plain": [
       "<Figure size 640x480 with 1 Axes>"
      ]
     },
     "metadata": {},
     "output_type": "display_data"
    }
   ],
   "source": [
    "sns.boxplot(x=players_df[\"age\"])"
   ]
  },
  {
   "cell_type": "code",
   "execution_count": 75,
   "id": "f0ba24c1",
   "metadata": {},
   "outputs": [
    {
     "data": {
      "text/plain": [
       "<Axes: xlabel='age', ylabel='Count'>"
      ]
     },
     "execution_count": 75,
     "metadata": {},
     "output_type": "execute_result"
    },
    {
     "data": {
      "image/png": "[encoded data removed]",
      "text/plain": [
       "<Figure size 640x480 with 1 Axes>"
      ]
     },
     "metadata": {},
     "output_type": "display_data"
    }
   ],
   "source": [
    "sns.histplot(players_df.age, bins=10)"
   ]
  },
  {
   "cell_type": "markdown",
   "id": "eb9613a0",
   "metadata": {},
   "source": [
    "#### The most goal player in 2022"
   ]
  },
  {
   "cell_type": "code",
   "execution_count": 76,
   "id": "69debda6",
   "metadata": {},
   "outputs": [
    {
     "data": {
      "image/png": "[encoded data removed]",
      "text/plain": [
       "<Figure size 1000x600 with 1 Axes>"
      ]
     },
     "metadata": {},
     "output_type": "display_data"
    }
   ],
   "source": [
    "top5_names = players_df.sort_values(by=['goals_2022'], ascending=False).head(5)['name']\n",
    "top5_goals = players_df.sort_values(by=['goals_2022'], ascending=False).head(5)['goals_2022']\n",
    "\n",
    "fig = plt.figure(figsize =(10, 6))\n",
    " \n",
    "plt.bar(top5_names, top5_goals)\n",
    " \n",
    "# Show Plot\n",
    "plt.show()"
   ]
  },
  {
   "cell_type": "markdown",
   "id": "775e1bf7",
   "metadata": {},
   "source": [
    "#### Highest market value player in 2023 (in Euro)"
   ]
  },
  {
   "cell_type": "code",
   "execution_count": 77,
   "id": "b4b2430d",
   "metadata": {},
   "outputs": [
    {
     "data": {
      "image/png": "[encoded data removed]",
      "text/plain": [
       "<Figure size 1000x600 with 1 Axes>"
      ]
     },
     "metadata": {},
     "output_type": "display_data"
    }
   ],
   "source": [
    "top5_names = players_df.sort_values(by=['market_value_in_eur'], ascending=False).head(5)['name']\n",
    "top5_market_values = players_df.sort_values(by=['market_value_in_eur'], ascending=False).head(5)['market_value_in_eur']\n",
    "\n",
    "fig = plt.figure(figsize =(10, 6))\n",
    " \n",
    "plt.bar(top5_names, top5_market_values)\n",
    " \n",
    "# Show Plot\n",
    "plt.show()"
   ]
  },
  {
   "cell_type": "markdown",
   "id": "579c213b",
   "metadata": {},
   "source": [
    "### Target Variable Analysis"
   ]
  },
  {
   "cell_type": "markdown",
   "id": "fa11a7a7",
   "metadata": {},
   "source": [
    "Here we use market_value_in_eur column as our target variable \\\n",
    "market_value_in_eur is latest value of the player in euro currency"
   ]
  },
  {
   "cell_type": "code",
   "execution_count": 78,
   "id": "46a756a1",
   "metadata": {},
   "outputs": [
    {
     "data": {
      "text/plain": [
       "<Axes: xlabel='market_value_in_eur', ylabel='Count'>"
      ]
     },
     "execution_count": 78,
     "metadata": {},
     "output_type": "execute_result"
    },
    {
     "data": {
      "image/png": "[encoded data removed]",
      "text/plain": [
       "<Figure size 640x480 with 1 Axes>"
      ]
     },
     "metadata": {},
     "output_type": "display_data"
    }
   ],
   "source": [
    "#show the distribution of player's market value\n",
    "#looked a long tail distribution\n",
    "sns.histplot(players_df['market_value_in_eur'], bins=10)"
   ]
  },
  {
   "cell_type": "code",
   "execution_count": 79,
   "id": "aa883a04",
   "metadata": {},
   "outputs": [
    {
     "data": {
      "text/plain": [
       "<Axes: xlabel='market_value_in_eur', ylabel='Count'>"
      ]
     },
     "execution_count": 79,
     "metadata": {},
     "output_type": "execute_result"
    },
    {
     "data": {
      "image/png": "[encoded data removed]",
      "text/plain": [
       "<Figure size 640x480 with 1 Axes>"
      ]
     },
     "metadata": {},
     "output_type": "display_data"
    }
   ],
   "source": [
    "#zoom in to below 1000000000\n",
    "sns.histplot(players_df['market_value_in_eur'][players_df['market_value_in_eur'] < 100000000], bins=50)"
   ]
  },
  {
   "cell_type": "code",
   "execution_count": 80,
   "id": "a48cd025",
   "metadata": {},
   "outputs": [],
   "source": [
    "#Applies log transformation to a variable and adds one to each result for normalize the distribution\n",
    "#Log transformation makes great distance of data dissemination become smaller\n",
    "#here we transform the distribution to normal dist since long tail dist often confuse the ML models\n",
    "market_value_logs = np.log1p(players_df['market_value_in_eur'])"
   ]
  },
  {
   "cell_type": "code",
   "execution_count": 81,
   "id": "25823a4c",
   "metadata": {},
   "outputs": [
    {
     "data": {
      "text/plain": [
       "<Axes: xlabel='market_value_in_eur', ylabel='Count'>"
      ]
     },
     "execution_count": 81,
     "metadata": {},
     "output_type": "execute_result"
    },
    {
     "data": {
      "image/png": "[encoded data removed]",
      "text/plain": [
       "<Figure size 640x480 with 1 Axes>"
      ]
     },
     "metadata": {},
     "output_type": "display_data"
    }
   ],
   "source": [
    "sns.histplot(market_value_logs, bins=50)"
   ]
  },
  {
   "cell_type": "markdown",
   "id": "32539a54",
   "metadata": {},
   "source": [
    "### Feature Importance Analysis"
   ]
  },
  {
   "cell_type": "code",
   "execution_count": 82,
   "id": "0c08b580",
   "metadata": {},
   "outputs": [
    {
     "data": {
      "text/plain": [
       "player_id                                        int64\n",
       "first_name                                      object\n",
       "last_name                                       object\n",
       "name                                            object\n",
       "last_season                                      int64\n",
       "current_club_id                                  int64\n",
       "player_code                                     object\n",
       "country_of_birth                                object\n",
       "city_of_birth                                   object\n",
       "country_of_citizenship                          object\n",
       "date_of_birth                           datetime64[ns]\n",
       "sub_position                                    object\n",
       "position                                        object\n",
       "foot                                            object\n",
       "height_in_cm                                   float64\n",
       "market_value_in_eur                            float64\n",
       "highest_market_value_in_eur                    float64\n",
       "contract_expiration_date                        object\n",
       "agent_name                                      object\n",
       "image_url                                       object\n",
       "url                                             object\n",
       "current_club_domestic_competition_id            object\n",
       "current_club_name                               object\n",
       "goals_2022                                     float64\n",
       "games_2022                                     float64\n",
       "assists_2022                                   float64\n",
       "minutes_played_2022                            float64\n",
       "goals_for_2022                                 float64\n",
       "goals_against_2022                             float64\n",
       "clean_sheet_2022                               float64\n",
       "age                                              int64\n",
       "dtype: object"
      ]
     },
     "execution_count": 82,
     "metadata": {},
     "output_type": "execute_result"
    }
   ],
   "source": [
    "players_df.dtypes"
   ]
  },
  {
   "cell_type": "code",
   "execution_count": 83,
   "id": "ca439fb1",
   "metadata": {},
   "outputs": [],
   "source": [
    "#pick relavant feature to train and divide it based the type of data\n",
    "numerical_features = ['height_in_cm',\n",
    "                      'goals_2022',\n",
    "                      'games_2022',\n",
    "                      'assists_2022',\n",
    "                      'minutes_played_2022',\n",
    "                      'goals_for_2022',\n",
    "                      'goals_against_2022',\n",
    "                      'clean_sheet_2022',\n",
    "                      'age'\n",
    "                     ]\n",
    "categorical_features = ['position',\n",
    "                        'sub_position',\n",
    "                        'foot',\n",
    "                        'current_club_name',\n",
    "                        'current_club_domestic_competition_id'\n",
    "                       ]"
   ]
  },
  {
   "cell_type": "markdown",
   "id": "ed85437f",
   "metadata": {},
   "source": [
    "#### Categorical data importance analysis: mutual information"
   ]
  },
  {
   "cell_type": "code",
   "execution_count": 84,
   "id": "9bfece61",
   "metadata": {},
   "outputs": [
    {
     "data": {
      "text/plain": [
       "0.06008489366697176"
      ]
     },
     "execution_count": 84,
     "metadata": {},
     "output_type": "execute_result"
    }
   ],
   "source": [
    "mutual_info_score(players_df.market_value_in_eur, players_df.position)"
   ]
  },
  {
   "cell_type": "code",
   "execution_count": 85,
   "id": "4df2e99d",
   "metadata": {},
   "outputs": [],
   "source": [
    "def mutual_info_marketvalue_score(series):\n",
    "    return mutual_info_score(series, players_df.market_value_in_eur)"
   ]
  },
  {
   "cell_type": "code",
   "execution_count": 86,
   "id": "dd4f1266",
   "metadata": {},
   "outputs": [
    {
     "data": {
      "text/plain": [
       "current_club_name                       1.359951\n",
       "current_club_domestic_competition_id    0.436970\n",
       "sub_position                            0.134787\n",
       "position                                0.060085\n",
       "foot                                    0.017598\n",
       "dtype: float64"
      ]
     },
     "execution_count": 86,
     "metadata": {},
     "output_type": "execute_result"
    }
   ],
   "source": [
    "mi = players_df[categorical_features].apply(mutual_info_marketvalue_score)\n",
    "mi.sort_values(ascending=False)"
   ]
  },
  {
   "cell_type": "markdown",
   "id": "b4e1392c",
   "metadata": {},
   "source": [
    "#### Numerical data importance analysis: pearson correlation"
   ]
  },
  {
   "cell_type": "code",
   "execution_count": 87,
   "id": "dce0e9a5",
   "metadata": {},
   "outputs": [
    {
     "data": {
      "text/plain": [
       "height_in_cm           0.018153\n",
       "goals_2022             0.465034\n",
       "games_2022             0.444302\n",
       "assists_2022           0.448892\n",
       "minutes_played_2022    0.448644\n",
       "goals_for_2022         0.521528\n",
       "goals_against_2022     0.326417\n",
       "clean_sheet_2022       0.486316\n",
       "age                    0.066511\n",
       "dtype: float64"
      ]
     },
     "execution_count": 87,
     "metadata": {},
     "output_type": "execute_result"
    }
   ],
   "source": [
    "players_df[numerical_features].corrwith(players_df.market_value_in_eur).abs()"
   ]
  },
  {
   "cell_type": "markdown",
   "id": "b243faba",
   "metadata": {},
   "source": [
    "## SPLIT DATASET"
   ]
  },
  {
   "cell_type": "code",
   "execution_count": 88,
   "id": "f9fe2e3c",
   "metadata": {},
   "outputs": [],
   "source": [
    "from sklearn.model_selection import train_test_split"
   ]
  },
  {
   "cell_type": "code",
   "execution_count": 89,
   "id": "7a74918a",
   "metadata": {},
   "outputs": [],
   "source": [
    "df_full_train, df_test = train_test_split(players_df, test_size=0.2, random_state=1)"
   ]
  },
  {
   "cell_type": "code",
   "execution_count": 90,
   "id": "ede5dfc8",
   "metadata": {},
   "outputs": [],
   "source": [
    "df_train, df_val = train_test_split(df_full_train, test_size=0.25, random_state=1)"
   ]
  },
  {
   "cell_type": "code",
   "execution_count": 91,
   "id": "e0f343fa",
   "metadata": {},
   "outputs": [
    {
     "data": {
      "text/plain": [
       "(3702, 1234, 1234)"
      ]
     },
     "execution_count": 91,
     "metadata": {},
     "output_type": "execute_result"
    }
   ],
   "source": [
    "len(df_train), len(df_val), len(df_test)"
   ]
  },
  {
   "cell_type": "code",
   "execution_count": 92,
   "id": "84e7007a",
   "metadata": {},
   "outputs": [],
   "source": [
    "df_train = df_train.reset_index(drop=True)\n",
    "df_val = df_val.reset_index(drop=True)\n",
    "df_test = df_test.reset_index(drop=True)"
   ]
  },
  {
   "cell_type": "code",
   "execution_count": 93,
   "id": "2bf40fdd",
   "metadata": {},
   "outputs": [],
   "source": [
    "#applies log transformation for each target \"y\" to each datasets\n",
    "y_train = np.log1p(df_train.market_value_in_eur.values)\n",
    "y_val = np.log1p(df_val.market_value_in_eur.values)\n",
    "y_test = np.log1p(df_test.market_value_in_eur.values)"
   ]
  },
  {
   "cell_type": "code",
   "execution_count": 94,
   "id": "e8506125",
   "metadata": {},
   "outputs": [],
   "source": [
    "#remove target \"y\" data to make sure target not included in training process\n",
    "del df_train[\"market_value_in_eur\"]\n",
    "del df_val[\"market_value_in_eur\"]\n",
    "del df_test[\"market_value_in_eur\"]"
   ]
  },
  {
   "cell_type": "markdown",
   "id": "6e4307f6",
   "metadata": {},
   "source": [
    "## Metrics"
   ]
  },
  {
   "cell_type": "code",
   "execution_count": 95,
   "id": "3bf8a228",
   "metadata": {},
   "outputs": [],
   "source": [
    "def rmse(y, y_pred):\n",
    "    error = y - y_pred\n",
    "    se = error ** 2\n",
    "    mse = se.mean()\n",
    "    return np.sqrt(mse)"
   ]
  },
  {
   "cell_type": "markdown",
   "id": "3b2a26f7",
   "metadata": {},
   "source": [
    "## Train Baseline Model"
   ]
  },
  {
   "cell_type": "markdown",
   "id": "f7d65760",
   "metadata": {},
   "source": [
    "Use all numerical feature (without categorical and feature selection) for baseline model \\\n",
    "Baseline model is use linear regression"
   ]
  },
  {
   "cell_type": "code",
   "execution_count": 103,
   "id": "4481f7c3",
   "metadata": {},
   "outputs": [],
   "source": [
    "def prepare_X(df):\n",
    "    X = df.values\n",
    "    return X"
   ]
  },
  {
   "cell_type": "code",
   "execution_count": 104,
   "id": "5a34899f",
   "metadata": {},
   "outputs": [
    {
     "data": {
      "text/plain": [
       "1.1880720139678733"
      ]
     },
     "execution_count": 104,
     "metadata": {},
     "output_type": "execute_result"
    }
   ],
   "source": [
    "X_train = prepare_X(df_train[numerical_features])\n",
    "\n",
    "reg = LinearRegression().fit(X_train, y_train)\n",
    "\n",
    "X_val = prepare_X(df_val[numerical_features])\n",
    "\n",
    "y_pred = reg.predict(X_val)\n",
    "\n",
    "rmse(y_val, y_pred)"
   ]
  },
  {
   "cell_type": "markdown",
   "id": "30e2a8b9",
   "metadata": {},
   "source": [
    "## Train Model"
   ]
  },
  {
   "cell_type": "markdown",
   "id": "d14f89ec",
   "metadata": {},
   "source": [
    "### Linear Regression "
   ]
  },
  {
   "cell_type": "code",
   "execution_count": 169,
   "id": "825444fe",
   "metadata": {},
   "outputs": [],
   "source": [
    "#Prepare data with one hot encoding\n",
    "dv = DictVectorizer(sparse=False)\n",
    "\n",
    "train_dict = df_train[categorical_features + numerical_features].to_dict(orient='records')\n",
    "X_train = dv.fit_transform(train_dict)\n",
    "\n",
    "val_dict = df_val[categorical_features + numerical_features].to_dict(orient='records')\n",
    "X_val = dv.transform(val_dict)"
   ]
  },
  {
   "cell_type": "code",
   "execution_count": 170,
   "id": "59c2f075",
   "metadata": {},
   "outputs": [
    {
     "data": {
      "text/plain": [
       "0.8808473953366259"
      ]
     },
     "execution_count": 170,
     "metadata": {},
     "output_type": "execute_result"
    }
   ],
   "source": [
    "reg = LinearRegression().fit(X_train, y_train)\n",
    "y_pred = reg.predict(X_val)\n",
    "rmse(y_val, y_pred)"
   ]
  },
  {
   "cell_type": "markdown",
   "id": "ee1a6612",
   "metadata": {},
   "source": [
    "#### Linear Regression with Ridge Regularization"
   ]
  },
  {
   "cell_type": "code",
   "execution_count": 181,
   "id": "c75f1d96",
   "metadata": {},
   "outputs": [
    {
     "data": {
      "text/plain": [
       "0.8802673591296154"
      ]
     },
     "execution_count": 181,
     "metadata": {},
     "output_type": "execute_result"
    }
   ],
   "source": [
    "regRidge = Ridge(alpha=0.1)\n",
    "regRidge.fit(X_train, y_train)\n",
    "y_pred = regRidge.predict(X_val)\n",
    "rmse(y_val, y_pred)"
   ]
  },
  {
   "cell_type": "markdown",
   "id": "8d214197",
   "metadata": {},
   "source": [
    "#### Linear Regression with Lasso Regularization"
   ]
  },
  {
   "cell_type": "code",
   "execution_count": 180,
   "id": "f2459a54",
   "metadata": {},
   "outputs": [
    {
     "data": {
      "text/plain": [
       "1.1588110808933716"
      ]
     },
     "execution_count": 180,
     "metadata": {},
     "output_type": "execute_result"
    }
   ],
   "source": [
    "regLasso = Lasso(alpha=0.1)\n",
    "regLasso.fit(X_train, y_train)\n",
    "y_pred = regLasso.predict(X_val)\n",
    "rmse(y_val, y_pred)"
   ]
  },
  {
   "cell_type": "markdown",
   "id": "a6178873",
   "metadata": {},
   "source": [
    "#### Tuning model"
   ]
  },
  {
   "cell_type": "markdown",
   "id": "49b5655c",
   "metadata": {},
   "source": [
    "From the three linear regression model we got \"linear regression with ridge\" as the best. now we fine tune the alpha of the best model"
   ]
  },
  {
   "cell_type": "code",
   "execution_count": 182,
   "id": "162b28e4",
   "metadata": {},
   "outputs": [
    {
     "name": "stdout",
     "output_type": "stream",
     "text": [
      "==== RMSE ====\n",
      "alpha=0.0 : 1.8856287154443736 \n",
      "==== RMSE ====\n",
      "alpha=1e-05 : 0.8808406269481698 \n",
      "==== RMSE ====\n",
      "alpha=0.0001 : 0.8808400969144246 \n",
      "==== RMSE ====\n",
      "alpha=0.001 : 0.8808347979932456 \n",
      "==== RMSE ====\n",
      "alpha=0.1 : 0.8802673591296154 \n",
      "==== RMSE ====\n",
      "alpha=1 : 0.8762951957983706 \n",
      "==== RMSE ====\n",
      "alpha=10 : 0.8745470450162509 \n"
     ]
    }
   ],
   "source": [
    "for alpha in [0.0, 0.00001, 0.0001, 0.001, 0.1, 1, 10]:\n",
    "    regRidge = Ridge(alpha=alpha)\n",
    "    regRidge.fit(X_train, y_train)\n",
    "    y_pred = regRidge.predict(X_val)\n",
    "    print(\"==== RMSE ====\")\n",
    "    print(\"alpha={} : {} \".format(alpha,rmse(y_val, y_pred)))\n",
    "    "
   ]
  },
  {
   "cell_type": "code",
   "execution_count": 184,
   "id": "be677f4f",
   "metadata": {},
   "outputs": [
    {
     "data": {
      "text/html": [
       "<style>#sk-container-id-1 {color: black;}#sk-container-id-1 pre{padding: 0;}#sk-container-id-1 div.sk-toggleable {background-color: white;}#sk-container-id-1 label.sk-toggleable__label {cursor: pointer;display: block;width: 100%;margin-bottom: 0;padding: 0.3em;box-sizing: border-box;text-align: center;}#sk-container-id-1 label.sk-toggleable__label-arrow:before {content: \"▸\";float: left;margin-right: 0.25em;color: #696969;}#sk-container-id-1 label.sk-toggleable__label-arrow:hover:before {color: black;}#sk-container-id-1 div.sk-estimator:hover label.sk-toggleable__label-arrow:before {color: black;}#sk-container-id-1 div.sk-toggleable__content {max-height: 0;max-width: 0;overflow: hidden;text-align: left;background-color: #f0f8ff;}#sk-container-id-1 div.sk-toggleable__content pre {margin: 0.2em;color: black;border-radius: 0.25em;background-color: #f0f8ff;}#sk-container-id-1 input.sk-toggleable__control:checked~div.sk-toggleable__content {max-height: 200px;max-width: 100%;overflow: auto;}#sk-container-id-1 input.sk-toggleable__control:checked~label.sk-toggleable__label-arrow:before {content: \"▾\";}#sk-container-id-1 div.sk-estimator input.sk-toggleable__control:checked~label.sk-toggleable__label {background-color: #d4ebff;}#sk-container-id-1 div.sk-label input.sk-toggleable__control:checked~label.sk-toggleable__label {background-color: #d4ebff;}#sk-container-id-1 input.sk-hidden--visually {border: 0;clip: rect(1px 1px 1px 1px);clip: rect(1px, 1px, 1px, 1px);height: 1px;margin: -1px;overflow: hidden;padding: 0;position: absolute;width: 1px;}#sk-container-id-1 div.sk-estimator {font-family: monospace;background-color: #f0f8ff;border: 1px dotted black;border-radius: 0.25em;box-sizing: border-box;margin-bottom: 0.5em;}#sk-container-id-1 div.sk-estimator:hover {background-color: #d4ebff;}#sk-container-id-1 div.sk-parallel-item::after {content: \"\";width: 100%;border-bottom: 1px solid gray;flex-grow: 1;}#sk-container-id-1 div.sk-label:hover label.sk-toggleable__label {background-color: #d4ebff;}#sk-container-id-1 div.sk-serial::before {content: \"\";position: absolute;border-left: 1px solid gray;box-sizing: border-box;top: 0;bottom: 0;left: 50%;z-index: 0;}#sk-container-id-1 div.sk-serial {display: flex;flex-direction: column;align-items: center;background-color: white;padding-right: 0.2em;padding-left: 0.2em;position: relative;}#sk-container-id-1 div.sk-item {position: relative;z-index: 1;}#sk-container-id-1 div.sk-parallel {display: flex;align-items: stretch;justify-content: center;background-color: white;position: relative;}#sk-container-id-1 div.sk-item::before, #sk-container-id-1 div.sk-parallel-item::before {content: \"\";position: absolute;border-left: 1px solid gray;box-sizing: border-box;top: 0;bottom: 0;left: 50%;z-index: -1;}#sk-container-id-1 div.sk-parallel-item {display: flex;flex-direction: column;z-index: 1;position: relative;background-color: white;}#sk-container-id-1 div.sk-parallel-item:first-child::after {align-self: flex-end;width: 50%;}#sk-container-id-1 div.sk-parallel-item:last-child::after {align-self: flex-start;width: 50%;}#sk-container-id-1 div.sk-parallel-item:only-child::after {width: 0;}#sk-container-id-1 div.sk-dashed-wrapped {border: 1px dashed gray;margin: 0 0.4em 0.5em 0.4em;box-sizing: border-box;padding-bottom: 0.4em;background-color: white;}#sk-container-id-1 div.sk-label label {font-family: monospace;font-weight: bold;display: inline-block;line-height: 1.2em;}#sk-container-id-1 div.sk-label-container {text-align: center;}#sk-container-id-1 div.sk-container {/* jupyter's `normalize.less` sets `[hidden] { display: none; }` but bootstrap.min.css set `[hidden] { display: none !important; }` so we also need the `!important` here to be able to override the default hidden behavior on the sphinx rendered scikit-learn.org. See: https://github.com/scikit-learn/scikit-learn/issues/21755 */display: inline-block !important;position: relative;}#sk-container-id-1 div.sk-text-repr-fallback {display: none;}</style><div id=\"sk-container-id-1\" class=\"sk-top-container\"><div class=\"sk-text-repr-fallback\"><pre>Ridge(alpha=10)</pre><b>In a Jupyter environment, please rerun this cell to show the HTML representation or trust the notebook. <br />On GitHub, the HTML representation is unable to render, please try loading this page with nbviewer.org.</b></div><div class=\"sk-container\" hidden><div class=\"sk-item\"><div class=\"sk-estimator sk-toggleable\"><input class=\"sk-toggleable__control sk-hidden--visually\" id=\"sk-estimator-id-1\" type=\"checkbox\" checked><label for=\"sk-estimator-id-1\" class=\"sk-toggleable__label sk-toggleable__label-arrow\">Ridge</label><div class=\"sk-toggleable__content\"><pre>Ridge(alpha=10)</pre></div></div></div></div></div>"
      ],
      "text/plain": [
       "Ridge(alpha=10)"
      ]
     },
     "execution_count": 184,
     "metadata": {},
     "output_type": "execute_result"
    }
   ],
   "source": [
    "#the best model is : linear regression with ridge regularization with alpha=10\n",
    "best_linear_model = Ridge(alpha=10)\n",
    "best_linear_model.fit(X_train, y_train)"
   ]
  },
  {
   "cell_type": "markdown",
   "id": "69f15385",
   "metadata": {},
   "source": [
    "### Decision Tree"
   ]
  },
  {
   "cell_type": "code",
   "execution_count": 196,
   "id": "503453ba",
   "metadata": {},
   "outputs": [
    {
     "data": {
      "text/html": [
       "<style>#sk-container-id-4 {color: black;}#sk-container-id-4 pre{padding: 0;}#sk-container-id-4 div.sk-toggleable {background-color: white;}#sk-container-id-4 label.sk-toggleable__label {cursor: pointer;display: block;width: 100%;margin-bottom: 0;padding: 0.3em;box-sizing: border-box;text-align: center;}#sk-container-id-4 label.sk-toggleable__label-arrow:before {content: \"▸\";float: left;margin-right: 0.25em;color: #696969;}#sk-container-id-4 label.sk-toggleable__label-arrow:hover:before {color: black;}#sk-container-id-4 div.sk-estimator:hover label.sk-toggleable__label-arrow:before {color: black;}#sk-container-id-4 div.sk-toggleable__content {max-height: 0;max-width: 0;overflow: hidden;text-align: left;background-color: #f0f8ff;}#sk-container-id-4 div.sk-toggleable__content pre {margin: 0.2em;color: black;border-radius: 0.25em;background-color: #f0f8ff;}#sk-container-id-4 input.sk-toggleable__control:checked~div.sk-toggleable__content {max-height: 200px;max-width: 100%;overflow: auto;}#sk-container-id-4 input.sk-toggleable__control:checked~label.sk-toggleable__label-arrow:before {content: \"▾\";}#sk-container-id-4 div.sk-estimator input.sk-toggleable__control:checked~label.sk-toggleable__label {background-color: #d4ebff;}#sk-container-id-4 div.sk-label input.sk-toggleable__control:checked~label.sk-toggleable__label {background-color: #d4ebff;}#sk-container-id-4 input.sk-hidden--visually {border: 0;clip: rect(1px 1px 1px 1px);clip: rect(1px, 1px, 1px, 1px);height: 1px;margin: -1px;overflow: hidden;padding: 0;position: absolute;width: 1px;}#sk-container-id-4 div.sk-estimator {font-family: monospace;background-color: #f0f8ff;border: 1px dotted black;border-radius: 0.25em;box-sizing: border-box;margin-bottom: 0.5em;}#sk-container-id-4 div.sk-estimator:hover {background-color: #d4ebff;}#sk-container-id-4 div.sk-parallel-item::after {content: \"\";width: 100%;border-bottom: 1px solid gray;flex-grow: 1;}#sk-container-id-4 div.sk-label:hover label.sk-toggleable__label {background-color: #d4ebff;}#sk-container-id-4 div.sk-serial::before {content: \"\";position: absolute;border-left: 1px solid gray;box-sizing: border-box;top: 0;bottom: 0;left: 50%;z-index: 0;}#sk-container-id-4 div.sk-serial {display: flex;flex-direction: column;align-items: center;background-color: white;padding-right: 0.2em;padding-left: 0.2em;position: relative;}#sk-container-id-4 div.sk-item {position: relative;z-index: 1;}#sk-container-id-4 div.sk-parallel {display: flex;align-items: stretch;justify-content: center;background-color: white;position: relative;}#sk-container-id-4 div.sk-item::before, #sk-container-id-4 div.sk-parallel-item::before {content: \"\";position: absolute;border-left: 1px solid gray;box-sizing: border-box;top: 0;bottom: 0;left: 50%;z-index: -1;}#sk-container-id-4 div.sk-parallel-item {display: flex;flex-direction: column;z-index: 1;position: relative;background-color: white;}#sk-container-id-4 div.sk-parallel-item:first-child::after {align-self: flex-end;width: 50%;}#sk-container-id-4 div.sk-parallel-item:last-child::after {align-self: flex-start;width: 50%;}#sk-container-id-4 div.sk-parallel-item:only-child::after {width: 0;}#sk-container-id-4 div.sk-dashed-wrapped {border: 1px dashed gray;margin: 0 0.4em 0.5em 0.4em;box-sizing: border-box;padding-bottom: 0.4em;background-color: white;}#sk-container-id-4 div.sk-label label {font-family: monospace;font-weight: bold;display: inline-block;line-height: 1.2em;}#sk-container-id-4 div.sk-label-container {text-align: center;}#sk-container-id-4 div.sk-container {/* jupyter's `normalize.less` sets `[hidden] { display: none; }` but bootstrap.min.css set `[hidden] { display: none !important; }` so we also need the `!important` here to be able to override the default hidden behavior on the sphinx rendered scikit-learn.org. See: https://github.com/scikit-learn/scikit-learn/issues/21755 */display: inline-block !important;position: relative;}#sk-container-id-4 div.sk-text-repr-fallback {display: none;}</style><div id=\"sk-container-id-4\" class=\"sk-top-container\"><div class=\"sk-text-repr-fallback\"><pre>DecisionTreeRegressor(max_depth=2, random_state=1)</pre><b>In a Jupyter environment, please rerun this cell to show the HTML representation or trust the notebook. <br />On GitHub, the HTML representation is unable to render, please try loading this page with nbviewer.org.</b></div><div class=\"sk-container\" hidden><div class=\"sk-item\"><div class=\"sk-estimator sk-toggleable\"><input class=\"sk-toggleable__control sk-hidden--visually\" id=\"sk-estimator-id-4\" type=\"checkbox\" checked><label for=\"sk-estimator-id-4\" class=\"sk-toggleable__label sk-toggleable__label-arrow\">DecisionTreeRegressor</label><div class=\"sk-toggleable__content\"><pre>DecisionTreeRegressor(max_depth=2, random_state=1)</pre></div></div></div></div></div>"
      ],
      "text/plain": [
       "DecisionTreeRegressor(max_depth=2, random_state=1)"
      ]
     },
     "execution_count": 196,
     "metadata": {},
     "output_type": "execute_result"
    }
   ],
   "source": [
    "rf = DecisionTreeRegressor(max_depth=2, random_state=1)\n",
    "rf.fit(X_train, y_train)"
   ]
  },
  {
   "cell_type": "code",
   "execution_count": 197,
   "id": "6c1f66bb",
   "metadata": {},
   "outputs": [
    {
     "data": {
      "text/plain": [
       "array([13.38580757, 15.05114391, 15.05114391, ..., 15.05114391,\n",
       "       15.05114391, 13.38580757])"
      ]
     },
     "execution_count": 197,
     "metadata": {},
     "output_type": "execute_result"
    }
   ],
   "source": [
    "y_pred = rf.predict(X_val)\n",
    "y_pred"
   ]
  },
  {
   "cell_type": "code",
   "execution_count": 198,
   "id": "0798bbf4",
   "metadata": {},
   "outputs": [
    {
     "data": {
      "text/plain": [
       "1.231"
      ]
     },
     "execution_count": 198,
     "metadata": {},
     "output_type": "execute_result"
    }
   ],
   "source": [
    "round(rmse(y_val, y_pred),3)"
   ]
  },
  {
   "cell_type": "markdown",
   "id": "69aac121",
   "metadata": {},
   "source": []
  }
 ],
 "metadata": {
  "kernelspec": {
   "display_name": "Python 3 (ipykernel)",
   "language": "python",
   "name": "python3"
  },
  "language_info": {
   "codemirror_mode": {
    "name": "ipython",
    "version": 3
   },
   "file_extension": ".py",
   "mimetype": "text/x-python",
   "name": "python",
   "nbconvert_exporter": "python",
   "pygments_lexer": "ipython3",
   "version": "3.9.18"
  }
 },
 "nbformat": 4,
 "nbformat_minor": 5
}
