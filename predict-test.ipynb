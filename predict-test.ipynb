{
 "cells": [
  {
   "cell_type": "markdown",
   "metadata": {},
   "source": [
    "This notebook will simulate how to use the deployed web service"
   ]
  },
  {
   "cell_type": "code",
   "execution_count": 1,
   "metadata": {},
   "outputs": [],
   "source": [
    "import requests"
   ]
  },
  {
   "cell_type": "code",
   "execution_count": 9,
   "metadata": {},
   "outputs": [],
   "source": [
    "url = 'http://0.0.0.0:9696/predict'"
   ]
  },
  {
   "cell_type": "code",
   "execution_count": 3,
   "metadata": {},
   "outputs": [
    {
     "data": {
      "text/plain": [
       "{'height_in_cm': 187.0,\n",
       " 'goals_2022': 0.0,\n",
       " 'games_2022': 30.0,\n",
       " 'assists_2022': 0.0,\n",
       " 'minutes_played_2022': 2668.0,\n",
       " 'goals_for_2022': 36.0,\n",
       " 'goals_against_2022': 65.0,\n",
       " 'clean_sheet_2022': 0.0,\n",
       " 'age': 31,\n",
       " 'position': 'Goalkeeper',\n",
       " 'sub_position': 'Goalkeeper',\n",
       " 'foot': 'right',\n",
       " 'current_club_name': 'Stade Rennais FC',\n",
       " 'current_club_domestic_competition_id': 'FR1'}"
      ]
     },
     "execution_count": 3,
     "metadata": {},
     "output_type": "execute_result"
    }
   ],
   "source": [
    "player_data = {\n",
    "    'height_in_cm': 187.0,\n",
    " 'goals_2022': 0.0,\n",
    " 'games_2022': 30.0,\n",
    " 'assists_2022': 0.0,\n",
    " 'minutes_played_2022': 2668.0,\n",
    " 'goals_for_2022': 36.0,\n",
    " 'goals_against_2022': 65.0,\n",
    " 'clean_sheet_2022': 0.0,\n",
    " 'age': 31,\n",
    " 'position': 'Goalkeeper',\n",
    " 'sub_position': 'Goalkeeper',\n",
    " 'foot': 'right',\n",
    " 'current_club_name': 'Stade Rennais FC',\n",
    " 'current_club_domestic_competition_id': 'FR1'\n",
    "}\n",
    "player_data"
   ]
  },
  {
   "cell_type": "code",
   "execution_count": 10,
   "metadata": {},
   "outputs": [
    {
     "data": {
      "text/plain": [
       "{'price_prediction_in_euro': 2145347.5}"
      ]
     },
     "execution_count": 10,
     "metadata": {},
     "output_type": "execute_result"
    }
   ],
   "source": [
    "response = requests.post(url, json=player_data).json()\n",
    "response"
   ]
  },
  {
   "cell_type": "code",
   "execution_count": 11,
   "metadata": {},
   "outputs": [
    {
     "name": "stdout",
     "output_type": "stream",
     "text": [
      "The market value estimation of the player is €2145348\n"
     ]
    }
   ],
   "source": [
    "print('The market value estimation of the player is €%.f' % (response['price_prediction_in_euro']))"
   ]
  },
  {
   "cell_type": "markdown",
   "metadata": {},
   "source": [
    "## With AWS elasticbeanstalk"
   ]
  },
  {
   "cell_type": "code",
   "execution_count": 15,
   "metadata": {},
   "outputs": [
    {
     "data": {
      "text/plain": [
       "'http://player-valuation-env.eba-hi5iceym.ap-southeast-1.elasticbeanstalk.com/predict'"
      ]
     },
     "execution_count": 15,
     "metadata": {},
     "output_type": "execute_result"
    }
   ],
   "source": [
    "host = 'player-valuation-env.eba-hi5iceym.ap-southeast-1.elasticbeanstalk.com'\n",
    "url = f'http://{host}/predict'\n",
    "url"
   ]
  },
  {
   "cell_type": "code",
   "execution_count": 16,
   "metadata": {},
   "outputs": [],
   "source": [
    "player_data = {\n",
    " 'height_in_cm': 187.0,\n",
    " 'goals_2022': 0.0,\n",
    " 'games_2022': 30.0,\n",
    " 'assists_2022': 0.0,\n",
    " 'minutes_played_2022': 2668.0,\n",
    " 'goals_for_2022': 36.0,\n",
    " 'goals_against_2022': 65.0,\n",
    " 'clean_sheet_2022': 0.0,\n",
    " 'age': 31,\n",
    " 'position': 'Goalkeeper',\n",
    " 'sub_position': 'Goalkeeper',\n",
    " 'foot': 'right',\n",
    " 'current_club_name': 'Stade Rennais FC',\n",
    " 'current_club_domestic_competition_id': 'FR1'\n",
    "}"
   ]
  },
  {
   "cell_type": "code",
   "execution_count": 18,
   "metadata": {},
   "outputs": [
    {
     "data": {
      "text/plain": [
       "<Response [502]>"
      ]
     },
     "execution_count": 18,
     "metadata": {},
     "output_type": "execute_result"
    }
   ],
   "source": [
    "response = requests.post(url, json=player_data).json()\n",
    "response"
   ]
  },
  {
   "cell_type": "code",
   "execution_count": null,
   "metadata": {},
   "outputs": [],
   "source": []
  }
 ],
 "metadata": {
  "kernelspec": {
   "display_name": "Python 3",
   "language": "python",
   "name": "python3"
  },
  "language_info": {
   "codemirror_mode": {
    "name": "ipython",
    "version": 3
   },
   "file_extension": ".py",
   "mimetype": "text/x-python",
   "name": "python",
   "nbconvert_exporter": "python",
   "pygments_lexer": "ipython3",
   "version": "3.8.3"
  }
 },
 "nbformat": 4,
 "nbformat_minor": 5
}
